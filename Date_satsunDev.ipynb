{
  "nbformat": 4,
  "nbformat_minor": 0,
  "metadata": {
    "colab": {
      "name": "Date_satsunDev.ipynb",
      "provenance": [],
      "collapsed_sections": [],
      "authorship_tag": "ABX9TyNWkh9l5LupzYm19t4Cjl3i",
      "include_colab_link": true
    },
    "kernelspec": {
      "name": "python3",
      "display_name": "Python 3"
    }
  },
  "cells": [
    {
      "cell_type": "markdown",
      "metadata": {
        "id": "view-in-github",
        "colab_type": "text"
      },
      "source": [
        "<a href=\"https://colab.research.google.com/github/yywest/A-guide-to-Machine-Learning-in-R/blob/ML-Python/Date_satsunDev.ipynb\" target=\"_parent\"><img src=\"https://colab.research.google.com/assets/colab-badge.svg\" alt=\"Open In Colab\"/></a>"
      ]
    },
    {
      "cell_type": "code",
      "metadata": {
        "id": "XbrFQD_uiILU",
        "colab_type": "code",
        "colab": {}
      },
      "source": [
        "from datetime import date\n",
        "today = date.today()                                                    # date have attribute today() but not have attribute now()\n",
        "print(today)"
      ],
      "execution_count": 0,
      "outputs": []
    },
    {
      "cell_type": "code",
      "metadata": {
        "id": "BJvBLoBn07l8",
        "colab_type": "code",
        "outputId": "357a58e8-0d36-4f89-9481-a182863a6d03",
        "colab": {
          "base_uri": "https://localhost:8080/",
          "height": 71
        }
      },
      "source": [
        "from datetime import datetime,timedelta       \n",
        "\n",
        "flashback =  timedelta(days=100)                                    #timedelta use for difference between datetime value ; ARGUMENT must b days,seconds...\n",
        "print('flashback = ',flashback)                                          # flashback = 100 days,0:00:00\n",
        "dt = datetime.now()                                                       # dt set format as datetime and value = now\n",
        "print('Now = ', dt)\n",
        "backDay = dt - flashback                                                # flashback must pass fx. timedelta  flashback can not b integer\n",
        "print('BackDay = ',backDay)"
      ],
      "execution_count": 0,
      "outputs": [
        {
          "output_type": "stream",
          "text": [
            "flashback =  100 days, 0:00:00\n",
            "Now =  2020-02-29 08:56:43.241681\n",
            "BackDay =  2019-11-21 08:56:43.241681\n"
          ],
          "name": "stdout"
        }
      ]
    },
    {
      "cell_type": "code",
      "metadata": {
        "id": "Xp_WObuxKiiP",
        "colab_type": "code",
        "outputId": "4a089d64-56bc-4f30-d511-9d030cd1d1a5",
        "colab": {
          "base_uri": "https://localhost:8080/",
          "height": 35
        }
      },
      "source": [
        "from datetime import  datetime,timedelta\n",
        "dt = datetime.now()\n",
        "dt += timedelta(days = 6  -  dt.weekday())                                                           # weekday 0=Mon, 1=Tue, 2=Wed, 3=Thu,  4=Fri, 5=Sat,  6=Sun\n",
        "print('dt = ' ,dt , ' dt.year = ',dt.year,' dt.month = ',dt.month,' dt.day = ', dt.day)     # dt =  2020-03-01 08:56:43.241681  dt.year =  2020  dt.month =  3  dt.day =  1"
      ],
      "execution_count": 0,
      "outputs": [
        {
          "output_type": "stream",
          "text": [
            "dt =  2020-03-01 10:01:57.211387  dt.year =  2020  dt.month =  3  dt.day =  1\n"
          ],
          "name": "stdout"
        }
      ]
    },
    {
      "cell_type": "code",
      "metadata": {
        "id": "xZnzQAAUycVF",
        "colab_type": "code",
        "colab": {}
      },
      "source": [
        "from datetime import  date,timedelta\n",
        "dt   =   date(2020, 1,1)\n",
        "weekday = dt.weekday()\n",
        "print ('dt.weekday = ' , weekday)\n",
        "dt  += timedelta(days = 6 - dt.weekday())\n",
        "print(dt)\n",
        "days = (6 - weekday)\n",
        "print('days = ',days)\n",
        "print('timedelta = ', timedelta( 6 - dt.weekday()))\n",
        "print(timedelta(days=2))                                   \n"
      ],
      "execution_count": 0,
      "outputs": []
    },
    {
      "cell_type": "code",
      "metadata": {
        "id": "WkCOiFFn4N3B",
        "colab_type": "code",
        "colab": {}
      },
      "source": [
        "def prime() :\n",
        "     return[2,3,5,7,11,13]\n",
        "prime()    "
      ],
      "execution_count": 0,
      "outputs": []
    },
    {
      "cell_type": "code",
      "metadata": {
        "id": "TqwbyCcB42yh",
        "colab_type": "code",
        "colab": {}
      },
      "source": [
        "def prime():\n",
        "  yield 2\n",
        "  yield 3\n",
        "  yield 5\n",
        "  yield 7\n",
        "  yield 11\n",
        "  yield 13\n",
        "for prime in prime():\n",
        "     print(prime)"
      ],
      "execution_count": 0,
      "outputs": []
    },
    {
      "cell_type": "code",
      "metadata": {
        "id": "o_5ZxsCTwuFN",
        "colab_type": "code",
        "colab": {}
      },
      "source": [
        "from itertools import *\n",
        "def prime():\n",
        "  yield 2\n",
        "  yield 3\n",
        "  yield 5\n",
        "  yield 7\n",
        "  yield 11\n",
        "  yield 13\n",
        "\n",
        "for prime in islice(prime(),3):\n",
        "     print(prime)  \n"
      ],
      "execution_count": 0,
      "outputs": []
    },
    {
      "cell_type": "code",
      "metadata": {
        "id": "1MygBuV5Txh4",
        "colab_type": "code",
        "outputId": "1c707fba-4ce8-4026-edfd-74737d90ebaf",
        "colab": {
          "base_uri": "https://localhost:8080/",
          "height": 183
        }
      },
      "source": [
        "from datetime import date,datetime\n",
        "y =  [2010,2011,2012,2013,2014,2015,2016,2017,2018,2019]\n",
        "for i in y :\n",
        "     dd = date(i,1,1)\n",
        "     wk = dd.weekday()\n",
        "     if wk == 6  :\n",
        "        print ('weekday = ', dd,dd.weekday())\n",
        "     else :  \n",
        "       print (dd,dd.weekday())\n"
      ],
      "execution_count": 0,
      "outputs": [
        {
          "output_type": "stream",
          "text": [
            "2010-01-01 4\n",
            "2011-01-01 5\n",
            "weekday =  2012-01-01 6\n",
            "2013-01-01 1\n",
            "2014-01-01 2\n",
            "2015-01-01 3\n",
            "2016-01-01 4\n",
            "weekday =  2017-01-01 6\n",
            "2018-01-01 0\n",
            "2019-01-01 1\n"
          ],
          "name": "stdout"
        }
      ]
    },
    {
      "cell_type": "code",
      "metadata": {
        "id": "HhmRLCNoBkiS",
        "colab_type": "code",
        "outputId": "9290feff-1bc7-4e79-c4af-dea02372ff55",
        "colab": {
          "base_uri": "https://localhost:8080/",
          "height": 1000
        }
      },
      "source": [
        "from datetime import date,datetime,timedelta\n",
        "num_year    =  [2015,2016,2017,2018,2019]\n",
        "#num_year  =  [2019]\n",
        "num_month =  [1,2,3,4,5,6,7,8,9,10,11,12]\n",
        "f = open('satsun.txt','w')\n",
        "f.write('Year' + ','  + 'Month' + ',' + 'Sat' +  ',' + 'Sun' +  '\\n')\n",
        "f.close()\n",
        "#-----------------------------------------------------------------------\n",
        "def satsun(yy) : \n",
        "     satday     =  date(yy,1,1)                                                       # dday format as date   value = 1/1/yyyy  1st of jan.\n",
        "     if satday.weekday() == 6 :\n",
        "        satday     =  date(yy,1,7) \n",
        "     else:\n",
        "        satday   +=  timedelta(days = 5 - satday.weekday())            #  get 1st saturday   \n",
        "     sunday    =  date(yy,1,1)                                                      # dday format as date   value = 1/1/yyyy  1st of jan.\n",
        "     sunday  +=  timedelta(days = 6 - sunday.weekday())              #  get 1st sunday   \n",
        "     countSun  = 0\n",
        "     sumYrsun = 0    \n",
        "     countSat   = 0\n",
        "     sumYrsat  = 0\n",
        "     prtMn  = 0\n",
        " \n",
        "     while satday.year == yy and sunday.year == yy :\n",
        "              for m in num_month :\n",
        "                   \n",
        "#                   print ('---------------')\n",
        "                   if prtMn > 0 :\n",
        "                      print ('----------  satyear = ',yy, ' month = ', prtMn, ' countSat = ' , countSat , ' countSun = ', countSun)\n",
        "#                      prtTxt = yy + ',' +  m\n",
        "                      f = open('satsun.txt','a')                \n",
        "                      f.write( str(yy) + ',' + str(prtMn) + ',' + str(countSat) + ',' + str(countSun) +  '\\n')\n",
        "                      f.close()\n",
        "                   countSat  = 0 \n",
        "                   countSun = 0   \n",
        "                   while satday.month == m and sunday.month == m :\n",
        "#                           print('sat = ',satday , ' sunday = ',sunday)     \n",
        "                            countSat      += 1\n",
        "                            sumYrsat     += 1\n",
        "                            satday         +=  timedelta(days = 7 )\n",
        "                            countSun     += 1\n",
        "                            sumYrsun    += 1\n",
        "                            sunday        +=  timedelta(days = 7) \n",
        "#                            print( ' Year =  ', y, ' month = ' ,m ,' countSat = ' , countSat ,' countSun = ' , countSun ,' sumYrSat = ', sumYrsat,  ' sumYrSun = ', sumYrsun)    \n",
        "\n",
        "                   while  satday.month == m and sunday.month != m :     \n",
        "#                           print('sat = ',satday , ' sunday = ',sunday) \n",
        "                            countSat      += 1\n",
        "                            sumYrsat     += 1\n",
        "                            satday         +=  timedelta(days = 7 )\n",
        "#                            print( ' Year =  ', y, ' month = ' ,m ,' countSat = ' , countSat ,' sumYrSat = ', sumYrsat)    \n",
        "                   while satday.month != m and sunday.month == m :\n",
        "#                           print('sat = ',satday , ' sunday = ',sunday) \n",
        "                            countSun      += 1\n",
        "                            sumYrsun     += 1\n",
        "                            sunday         +=  timedelta(days = 7 )\n",
        "#                            print(sunday,' Year =  ', y, ' month = ' ,m ,' countSun = ' , countSun ,' sumYrSun = ', sumYrsun)     \n",
        "                   prtMn += 1    \n",
        "                   if prtMn == 12 :\n",
        "                      print ('----------  satyear = ',yy, ' month = ', prtMn, ' countSat = ' , countSat , ' countSun = ', countSun) \n",
        "                      f = open('satsun.txt','a')                \n",
        "                      f.write( str(yy) + ',' + str(prtMn) + ',' + str(countSat) + ',' + str(countSun) +  '\\n')\n",
        "                      f.close()        \n",
        "     return  \n",
        "\n",
        "for y in num_year :\n",
        "     satsun(y)\n",
        "       "
      ],
      "execution_count": 29,
      "outputs": [
        {
          "output_type": "stream",
          "text": [
            "----------  satyear =  2015  month =  1  countSat =  5  countSun =  4\n",
            "----------  satyear =  2015  month =  2  countSat =  4  countSun =  4\n",
            "----------  satyear =  2015  month =  3  countSat =  4  countSun =  5\n",
            "----------  satyear =  2015  month =  4  countSat =  4  countSun =  4\n",
            "----------  satyear =  2015  month =  5  countSat =  5  countSun =  5\n",
            "----------  satyear =  2015  month =  6  countSat =  4  countSun =  4\n",
            "----------  satyear =  2015  month =  7  countSat =  4  countSun =  4\n",
            "----------  satyear =  2015  month =  8  countSat =  5  countSun =  5\n",
            "----------  satyear =  2015  month =  9  countSat =  4  countSun =  4\n",
            "----------  satyear =  2015  month =  10  countSat =  5  countSun =  4\n",
            "----------  satyear =  2015  month =  11  countSat =  4  countSun =  5\n",
            "----------  satyear =  2015  month =  12  countSat =  4  countSun =  4\n",
            "----------  satyear =  2016  month =  1  countSat =  5  countSun =  5\n",
            "----------  satyear =  2016  month =  2  countSat =  4  countSun =  4\n",
            "----------  satyear =  2016  month =  3  countSat =  4  countSun =  4\n",
            "----------  satyear =  2016  month =  4  countSat =  5  countSun =  4\n",
            "----------  satyear =  2016  month =  5  countSat =  4  countSun =  5\n",
            "----------  satyear =  2016  month =  6  countSat =  4  countSun =  4\n",
            "----------  satyear =  2016  month =  7  countSat =  5  countSun =  5\n",
            "----------  satyear =  2016  month =  8  countSat =  4  countSun =  4\n",
            "----------  satyear =  2016  month =  9  countSat =  4  countSun =  4\n",
            "----------  satyear =  2016  month =  10  countSat =  5  countSun =  5\n",
            "----------  satyear =  2016  month =  11  countSat =  4  countSun =  4\n",
            "----------  satyear =  2016  month =  12  countSat =  5  countSun =  4\n",
            "----------  satyear =  2017  month =  1  countSat =  4  countSun =  5\n",
            "----------  satyear =  2017  month =  2  countSat =  4  countSun =  4\n",
            "----------  satyear =  2017  month =  3  countSat =  4  countSun =  4\n",
            "----------  satyear =  2017  month =  4  countSat =  5  countSun =  5\n",
            "----------  satyear =  2017  month =  5  countSat =  4  countSun =  4\n",
            "----------  satyear =  2017  month =  6  countSat =  4  countSun =  4\n",
            "----------  satyear =  2017  month =  7  countSat =  5  countSun =  5\n",
            "----------  satyear =  2017  month =  8  countSat =  4  countSun =  4\n",
            "----------  satyear =  2017  month =  9  countSat =  5  countSun =  4\n",
            "----------  satyear =  2017  month =  10  countSat =  4  countSun =  5\n",
            "----------  satyear =  2017  month =  11  countSat =  4  countSun =  4\n",
            "----------  satyear =  2017  month =  12  countSat =  5  countSun =  5\n",
            "----------  satyear =  2018  month =  1  countSat =  4  countSun =  4\n",
            "----------  satyear =  2018  month =  2  countSat =  4  countSun =  4\n",
            "----------  satyear =  2018  month =  3  countSat =  5  countSun =  4\n",
            "----------  satyear =  2018  month =  4  countSat =  4  countSun =  5\n",
            "----------  satyear =  2018  month =  5  countSat =  4  countSun =  4\n",
            "----------  satyear =  2018  month =  6  countSat =  5  countSun =  4\n",
            "----------  satyear =  2018  month =  7  countSat =  4  countSun =  5\n",
            "----------  satyear =  2018  month =  8  countSat =  4  countSun =  4\n",
            "----------  satyear =  2018  month =  9  countSat =  5  countSun =  5\n",
            "----------  satyear =  2018  month =  10  countSat =  4  countSun =  4\n",
            "----------  satyear =  2018  month =  11  countSat =  4  countSun =  4\n",
            "----------  satyear =  2018  month =  12  countSat =  5  countSun =  5\n",
            "----------  satyear =  2019  month =  1  countSat =  4  countSun =  4\n",
            "----------  satyear =  2019  month =  2  countSat =  4  countSun =  4\n",
            "----------  satyear =  2019  month =  3  countSat =  5  countSun =  5\n",
            "----------  satyear =  2019  month =  4  countSat =  4  countSun =  4\n",
            "----------  satyear =  2019  month =  5  countSat =  4  countSun =  4\n",
            "----------  satyear =  2019  month =  6  countSat =  5  countSun =  5\n",
            "----------  satyear =  2019  month =  7  countSat =  4  countSun =  4\n",
            "----------  satyear =  2019  month =  8  countSat =  5  countSun =  4\n",
            "----------  satyear =  2019  month =  9  countSat =  4  countSun =  5\n",
            "----------  satyear =  2019  month =  10  countSat =  4  countSun =  4\n",
            "----------  satyear =  2019  month =  11  countSat =  5  countSun =  4\n",
            "----------  satyear =  2019  month =  12  countSat =  4  countSun =  5\n"
          ],
          "name": "stdout"
        }
      ]
    },
    {
      "cell_type": "code",
      "metadata": {
        "id": "GwfU8r7tlvzb",
        "colab_type": "code",
        "outputId": "1a5f7d86-c035-45ae-a545-2f57dfd3eec2",
        "colab": {
          "base_uri": "https://localhost:8080/",
          "height": 883
        }
      },
      "source": [
        "from datetime import date,datetime,timedelta\n",
        "\n",
        "def all_sunday(year) :\n",
        "     dt   =   date(year, 1,1)\n",
        "     dt  += timedelta(days = 6 - dt.weekday())         # weekday 0=Mon, 1=Tue, 2=Wed, 3=Thu,  4=Fri, 5=Sat,  6=Sun\n",
        "     while dt.year == year :\n",
        "             yield dt \n",
        "             dt  += timedelta(days = 7 )\n",
        "             \n",
        "for s  in all_sunday(2019) :\n",
        "    print(s)         "
      ],
      "execution_count": 0,
      "outputs": [
        {
          "output_type": "stream",
          "text": [
            "2019-01-06\n",
            "2019-01-13\n",
            "2019-01-20\n",
            "2019-01-27\n",
            "2019-02-03\n",
            "2019-02-10\n",
            "2019-02-17\n",
            "2019-02-24\n",
            "2019-03-03\n",
            "2019-03-10\n",
            "2019-03-17\n",
            "2019-03-24\n",
            "2019-03-31\n",
            "2019-04-07\n",
            "2019-04-14\n",
            "2019-04-21\n",
            "2019-04-28\n",
            "2019-05-05\n",
            "2019-05-12\n",
            "2019-05-19\n",
            "2019-05-26\n",
            "2019-06-02\n",
            "2019-06-09\n",
            "2019-06-16\n",
            "2019-06-23\n",
            "2019-06-30\n",
            "2019-07-07\n",
            "2019-07-14\n",
            "2019-07-21\n",
            "2019-07-28\n",
            "2019-08-04\n",
            "2019-08-11\n",
            "2019-08-18\n",
            "2019-08-25\n",
            "2019-09-01\n",
            "2019-09-08\n",
            "2019-09-15\n",
            "2019-09-22\n",
            "2019-09-29\n",
            "2019-10-06\n",
            "2019-10-13\n",
            "2019-10-20\n",
            "2019-10-27\n",
            "2019-11-03\n",
            "2019-11-10\n",
            "2019-11-17\n",
            "2019-11-24\n",
            "2019-12-01\n",
            "2019-12-08\n",
            "2019-12-15\n",
            "2019-12-22\n",
            "2019-12-29\n"
          ],
          "name": "stdout"
        }
      ]
    }
  ]
}