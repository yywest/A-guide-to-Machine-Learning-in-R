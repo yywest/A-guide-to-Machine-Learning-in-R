{
  "nbformat": 4,
  "nbformat_minor": 0,
  "metadata": {
    "colab": {
      "name": "testBnk.ipynb",
      "provenance": [],
      "collapsed_sections": [],
      "authorship_tag": "ABX9TyOQKRRbk9+7CuafQ21Tgrr8",
      "include_colab_link": true
    },
    "kernelspec": {
      "name": "python3",
      "display_name": "Python 3"
    }
  },
  "cells": [
    {
      "cell_type": "markdown",
      "metadata": {
        "id": "view-in-github",
        "colab_type": "text"
      },
      "source": [
        "<a href=\"https://colab.research.google.com/github/yywest/A-guide-to-Machine-Learning-in-R/blob/master/testBnk.ipynb\" target=\"_parent\"><img src=\"https://colab.research.google.com/assets/colab-badge.svg\" alt=\"Open In Colab\"/></a>"
      ]
    },
    {
      "cell_type": "code",
      "metadata": {
        "id": "zV6JzBRqStz5",
        "colab_type": "code",
        "outputId": "1c0da69e-2a45-45d9-873a-c03d7ef518ec",
        "colab": {
          "base_uri": "https://localhost:8080/",
          "height": 34
        }
      },
      "source": [
        "from google.colab import drive\n",
        "drive.mount('/content/drive')"
      ],
      "execution_count": 0,
      "outputs": [
        {
          "output_type": "stream",
          "text": [
            "Drive already mounted at /content/drive; to attempt to forcibly remount, call drive.mount(\"/content/drive\", force_remount=True).\n"
          ],
          "name": "stdout"
        }
      ]
    },
    {
      "cell_type": "code",
      "metadata": {
        "id": "Pwg3UzVqTgA8",
        "colab_type": "code",
        "colab": {}
      },
      "source": [
        "import pandas as pd\n",
        "import numpy as np\n",
        "from sklearn import preprocessing\n",
        "from sklearn import neighbors\n",
        "import matplotlib.pyplot as plt \n",
        "plt.rc(\"font\", size=14)\n",
        "from sklearn.linear_model import LogisticRegression\n",
        "from sklearn.model_selection import train_test_split\n",
        "import seaborn as sns\n",
        "sns.set(style=\"white\")\n",
        "sns.set(style=\"whitegrid\", color_codes=True)"
      ],
      "execution_count": 0,
      "outputs": []
    },
    {
      "cell_type": "code",
      "metadata": {
        "id": "KGUGFHukTmYZ",
        "colab_type": "code",
        "outputId": "ee8ead84-d8c8-4a95-8a61-58886778644e",
        "colab": {
          "base_uri": "https://localhost:8080/",
          "height": 71
        }
      },
      "source": [
        "data = pd.read_csv('/content/drive/My Drive/Colab Notebooks/banking_portu.csv',header=0)                             \n",
        "data = data.dropna()\n",
        "print(data.shape)                                                                            # show umber of total rows & columns\n",
        "print(list(data.columns))\n",
        "orgData = data                                                                               # for test original dataset      "
      ],
      "execution_count": 90,
      "outputs": [
        {
          "output_type": "stream",
          "text": [
            "(41188, 21)\n",
            "['age', 'job', 'marital', 'education', 'default', 'housing', 'loan', 'contact', 'month', 'day_of_week', 'duration', 'campaign', 'pdays', 'previous', 'poutcome', 'emp_var_rate', 'cons_price_idx', 'cons_conf_idx', 'euribor3m', 'nr_employed', 'y']\n"
          ],
          "name": "stdout"
        }
      ]
    },
    {
      "cell_type": "code",
      "metadata": {
        "id": "zz1RyCVII1Ew",
        "colab_type": "code",
        "colab": {}
      },
      "source": [
        "print('orgData.columns = ',orgData.columns)                                    # print all col. in orgData and end with detail dtype= 'object'\n",
        "print('Total rows of orgData = len(orgData) =  ',len((orgData)))         # print total rows of orgData\n",
        "print('orgData.columns = ',len(list(orgData.columns)))                       # print(len(list(orgData))) \n",
        "print('orgData =' ,orgData)\n",
        "print('job & education = ' ,orgData[['job','education']])                       # print only 2 cols (specific columns)"
      ],
      "execution_count": 0,
      "outputs": []
    },
    {
      "cell_type": "code",
      "metadata": {
        "id": "N1BTSTNPUig8",
        "colab_type": "code",
        "colab": {}
      },
      "source": [
        "data.head()                                                                                   # show sample data column name and contain data ; data.head(2) show 2 rows"
      ],
      "execution_count": 0,
      "outputs": []
    },
    {
      "cell_type": "code",
      "metadata": {
        "id": "RWoiKhVYVLK0",
        "colab_type": "code",
        "colab": {}
      },
      "source": [
        "data.info()                                                                                  # show number of total rows in every  column and data type"
      ],
      "execution_count": 0,
      "outputs": []
    },
    {
      "cell_type": "code",
      "metadata": {
        "id": "l8DNa2nE6ix_",
        "colab_type": "code",
        "colab": {}
      },
      "source": [
        "data.describe                                                               # show data in every  rows "
      ],
      "execution_count": 0,
      "outputs": []
    },
    {
      "cell_type": "code",
      "metadata": {
        "id": "xm3KiVuH9EY1",
        "colab_type": "code",
        "colab": {}
      },
      "source": [
        "data.describe ()                                                           # describe statistic value of ecah column"
      ],
      "execution_count": 0,
      "outputs": []
    },
    {
      "cell_type": "code",
      "metadata": {
        "id": "x150pBd--xfF",
        "colab_type": "code",
        "colab": {}
      },
      "source": [
        "data['education'].unique()                                             #  Categories of education ; array(['basic.4y', 'unknown', 'university.degree', 'basic.6y',...], dtype=object)"
      ],
      "execution_count": 0,
      "outputs": []
    },
    {
      "cell_type": "code",
      "metadata": {
        "id": "EHpkqf6RWCDy",
        "colab_type": "code",
        "colab": {}
      },
      "source": [
        "# Let us group “basic.4y”, “basic.9y” and “basic.6y” together and call them “basic”.\n",
        "# Reduce education group ; group “basic.4y”, “basic.9y” and “basic.6y” together and call them “basic”\n",
        "#-----------------------------------------------------------------------------------------------------------\n",
        "data['education']=np.where(data['education'] =='basic.9y', 'Basic', data['education'])\n",
        "data['education']=np.where(data['education'] =='basic.6y', 'Basic', data['education'])\n",
        "data['education']=np.where(data['education'] =='basic.4y', 'Basic', data['education'])\n",
        "#-----------------------------------------------------------------------------------------------------------\n",
        "# after grouping these columns  ; education group =  array(['basic', 'unknown', 'university.degree', 'high.school', 'professional.course', 'illiterate'], dtype=object)"
      ],
      "execution_count": 0,
      "outputs": []
    },
    {
      "cell_type": "code",
      "metadata": {
        "id": "RnodE6Egjr55",
        "colab_type": "code",
        "colab": {}
      },
      "source": [
        "data['education'].unique()"
      ],
      "execution_count": 0,
      "outputs": []
    },
    {
      "cell_type": "code",
      "metadata": {
        "id": "Zll9r5P6kFXu",
        "colab_type": "code",
        "colab": {}
      },
      "source": [
        "data['education'].value_counts()                             # show total rows of each category in education column  and data type                    "
      ],
      "execution_count": 0,
      "outputs": []
    },
    {
      "cell_type": "code",
      "metadata": {
        "id": "q21svPbeWMBa",
        "colab_type": "code",
        "colab": {}
      },
      "source": [
        "# Data exploration\n",
        "data['y'].value_counts()"
      ],
      "execution_count": 0,
      "outputs": []
    },
    {
      "cell_type": "code",
      "metadata": {
        "id": "mJGfsxeGW0pL",
        "colab_type": "code",
        "colab": {}
      },
      "source": [
        "sns.countplot(x='y',data=data, palette='hls')               # palette='hls' about chart colors\n",
        "plt.show()\n",
        "plt.savefig('count_plot')                                             # show  detail   <Figure size 432x288 with 0 Axes>"
      ],
      "execution_count": 0,
      "outputs": []
    },
    {
      "cell_type": "code",
      "metadata": {
        "id": "fgg-TPubWisk",
        "colab_type": "code",
        "colab": {}
      },
      "source": [
        "count_no_sub = len(data[data['y'] == 0])                 # count client not subcription   ; y value = 0\n",
        "count_sub = len(data[data['y'] == 1])                      # count client subcription         ; y value = 1\n",
        "#print(count_no_sub)                                             # 36548\n",
        "#print(count_sub)                                                  # 4640"
      ],
      "execution_count": 0,
      "outputs": []
    },
    {
      "cell_type": "code",
      "metadata": {
        "id": "fCVCF8FDEfjR",
        "colab_type": "code",
        "colab": {
          "base_uri": "https://localhost:8080/",
          "height": 34
        },
        "outputId": "9d6f693f-350a-4a33-e3ef-e1d20c626b15"
      },
      "source": [
        "pct_of_no_sub = count_no_sub/(count_no_sub+count_sub)          # 0.8873458288821987\n",
        "print(\"percentage of no subscription is\", pct_of_no_sub*100)         # Percentage of no subscription is  88.73458288821988"
      ],
      "execution_count": 97,
      "outputs": [
        {
          "output_type": "stream",
          "text": [
            "percentage of no subscription is 88.73458288821988\n"
          ],
          "name": "stdout"
        }
      ]
    },
    {
      "cell_type": "code",
      "metadata": {
        "id": "w1g6j3ZDIqM5",
        "colab_type": "code",
        "colab": {
          "base_uri": "https://localhost:8080/",
          "height": 34
        },
        "outputId": "cf4b17d9-26b9-4fce-aef1-0bc89d19c939"
      },
      "source": [
        "pct_of_sub = count_sub/(count_no_sub+count_sub)                    # 0.11265417111780131\n",
        "print(\"percentage of subscription\", pct_of_sub*100)                      # Percentage of  subscription is  11.265417111780131j\n",
        "\n",
        "# 'y' is imblalance ratio of no-subscription to subscription instances is 89:11 Before we go ahead to balance the classes, let’s do some more exploration."
      ],
      "execution_count": 98,
      "outputs": [
        {
          "output_type": "stream",
          "text": [
            "percentage of subscription 11.265417111780131\n"
          ],
          "name": "stdout"
        }
      ]
    },
    {
      "cell_type": "code",
      "metadata": {
        "id": "HdrH9KQpZPiT",
        "colab_type": "code",
        "colab": {}
      },
      "source": [
        "data.groupby('y').mean()                                                            # summary & calculate mean of each feature separate by  y = 0 and y =1 "
      ],
      "execution_count": 0,
      "outputs": []
    },
    {
      "cell_type": "code",
      "metadata": {
        "id": "nDYUjQHSZbpx",
        "colab_type": "code",
        "colab": {}
      },
      "source": [
        "data.groupby('job').mean()"
      ],
      "execution_count": 0,
      "outputs": []
    },
    {
      "cell_type": "code",
      "metadata": {
        "id": "WfIoO1I5myy0",
        "colab_type": "code",
        "colab": {}
      },
      "source": [
        "data.groupby('marital').mean()"
      ],
      "execution_count": 0,
      "outputs": []
    },
    {
      "cell_type": "code",
      "metadata": {
        "id": "MHDDUfAgaMUS",
        "colab_type": "code",
        "colab": {}
      },
      "source": [
        "data.groupby('education').mean()"
      ],
      "execution_count": 0,
      "outputs": []
    },
    {
      "cell_type": "code",
      "metadata": {
        "id": "tgxuNanzaiKk",
        "colab_type": "code",
        "colab": {}
      },
      "source": [
        "#Visualizations\n",
        "\n",
        "%matplotlib inline\n",
        "pd.crosstab(data.job,data.y).plot(kind='bar')\n",
        "plt.title('Purchase Frequency for Job Title')\n",
        "plt.xlabel('Job')\n",
        "plt.ylabel('Frequency of Purchase')                                # The frequency of purchase of the deposit depends a great deal on the job title\n",
        "plt.savefig('purchase_fre_job')\n",
        "\n",
        "# job title can be a good predictor of the outcome variable."
      ],
      "execution_count": 0,
      "outputs": []
    },
    {
      "cell_type": "markdown",
      "metadata": {
        "id": "gDaKUWIUa5cf",
        "colab_type": "text"
      },
      "source": [
        "The frequency of purchase of the deposit depends a great deal on the job title. Thus, the job title can be a good predictor of the outcome variable."
      ]
    },
    {
      "cell_type": "code",
      "metadata": {
        "id": "eHjEA0v5a2KP",
        "colab_type": "code",
        "colab": {}
      },
      "source": [
        "table=pd.crosstab(data.marital,data.y)\n",
        "table.div(table.sum(1).astype(float), axis=0).plot(kind='bar', stacked=True)\n",
        "plt.title('Stacked Bar Chart of Marital Status vs Purchase')\n",
        "plt.xlabel('Marital Status')\n",
        "plt.ylabel('Proportion of Customers')\n",
        "plt.savefig('mariral_vs_pur_stack')                                                                      #The marital status does not seem a strong predictor for the outcome variable."
      ],
      "execution_count": 0,
      "outputs": []
    },
    {
      "cell_type": "markdown",
      "metadata": {
        "id": "5FTTUru1bFJG",
        "colab_type": "text"
      },
      "source": [
        "The marital status does not seem a strong predictor for the outcome variable."
      ]
    },
    {
      "cell_type": "code",
      "metadata": {
        "id": "9eESY4wZbNQw",
        "colab_type": "code",
        "colab": {}
      },
      "source": [
        "table=pd.crosstab(data.education,data.y)\n",
        "table.div(table.sum(1).astype(float), axis=0).plot(kind='bar', stacked=True)\n",
        "plt.title('Stacked Bar Chart of Education vs Purchase')\n",
        "plt.xlabel('Education')\n",
        "plt.ylabel('Proportion of Customers')\n",
        "plt.savefig('edu_vs_pur_stack')"
      ],
      "execution_count": 0,
      "outputs": []
    },
    {
      "cell_type": "markdown",
      "metadata": {
        "id": "sFpqUPtfbdy4",
        "colab_type": "text"
      },
      "source": [
        "Education seems a good predictor of the outcome variable."
      ]
    },
    {
      "cell_type": "code",
      "metadata": {
        "id": "rPvnLyxybhY4",
        "colab_type": "code",
        "colab": {}
      },
      "source": [
        "pd.crosstab(data.day_of_week,data.y).plot(kind='bar')\n",
        "plt.title('Purchase Frequency for Day of Week')\n",
        "plt.xlabel('Day of Week')\n",
        "plt.ylabel('Frequency of Purchase')\n",
        "plt.savefig('pur_dayofweek_bar')\n",
        "#Day of week may not be a good predictor of the outcome."
      ],
      "execution_count": 0,
      "outputs": []
    },
    {
      "cell_type": "code",
      "metadata": {
        "id": "ZMOijk9Vb1yh",
        "colab_type": "code",
        "colab": {}
      },
      "source": [
        "pd.crosstab(data.month,data.y).plot(kind='bar')\n",
        "plt.title('Purchase Frequency for Month')\n",
        "plt.xlabel('Month')\n",
        "plt.ylabel('Frequency of Purchase')\n",
        "plt.savefig('pur_fre_month_bar')\n",
        "\n",
        "# Month might be a good predictor of the outcome variable"
      ],
      "execution_count": 0,
      "outputs": []
    },
    {
      "cell_type": "markdown",
      "metadata": {
        "id": "GckKjFyccF9l",
        "colab_type": "text"
      },
      "source": [
        "Month might be a good predictor of the outcome variable.\n"
      ]
    },
    {
      "cell_type": "code",
      "metadata": {
        "id": "DGsMYbcJcI5W",
        "colab_type": "code",
        "colab": {}
      },
      "source": [
        "data.age.hist()\n",
        "plt.title('Histogram of Age')\n",
        "plt.xlabel('Age')\n",
        "plt.ylabel('Frequency')\n",
        "plt.savefig('hist_age')                                      # Most of the customers of the bank in this dataset are in the age range of 30–40."
      ],
      "execution_count": 0,
      "outputs": []
    },
    {
      "cell_type": "markdown",
      "metadata": {
        "id": "uOnFtBeIcSTP",
        "colab_type": "text"
      },
      "source": [
        "Most of the customers of the bank in this dataset are in the age range of 30–40.\n"
      ]
    },
    {
      "cell_type": "code",
      "metadata": {
        "id": "ZClK_hTrb3zO",
        "colab_type": "code",
        "colab": {}
      },
      "source": [
        "pd.crosstab(data.poutcome,data.y).plot(kind='bar')\n",
        "plt.title('Purchase Frequency for Poutcome')\n",
        "plt.xlabel('Poutcome')\n",
        "plt.ylabel('Frequency of Purchase')\n",
        "plt.savefig('pur_fre_pout_bar')                                     # Poutcome seems to be a good predictor of the outcome variable."
      ],
      "execution_count": 0,
      "outputs": []
    },
    {
      "cell_type": "markdown",
      "metadata": {
        "id": "7S53sUzVch_I",
        "colab_type": "text"
      },
      "source": [
        "Poutcome seems to be a good predictor of the outcome variable.\n"
      ]
    },
    {
      "cell_type": "code",
      "metadata": {
        "id": "-BOnpIn3L8vh",
        "colab_type": "code",
        "colab": {}
      },
      "source": [
        "print(data)"
      ],
      "execution_count": 0,
      "outputs": []
    },
    {
      "cell_type": "code",
      "metadata": {
        "id": "eSU_WmPpMOpp",
        "colab_type": "code",
        "colab": {}
      },
      "source": [
        "####-------------------This section is test run data -------------------------- ####\n",
        "for var in dummy_list :\n",
        "     dum_var = 'var' + '_' + var                                                       #001  ; var_job,var_marital,var_education,...,var_day_of_week,var_poutcome, more description above\n",
        "     print('dum_var = ', dum_var)\n",
        "     dum_var = pd.get_dummies(data[var],prefix=var)                      #002  ; create new dummy column that column name begin with the original name  and fill the content data ; get category in the main column\n",
        "     print('dum_var_data  = ', dum_var)\n",
        "     data_join = data.join(dum_var)\n",
        "     print('dataJoin = ',data_join)\n",
        "     data   = data_join\n",
        "#cat_vars   =['job','marital','education','default','housing','loan','contact','month','day_of_week','poutcome']    \n",
        "#data_vars = data.columns.values.tolist()\n",
        "#to_keep = [i for i in data_vars if i not in cat_vars]\n",
        "\n",
        "####-------------------This sectionn is test run data -------------------------- ####"
      ],
      "execution_count": 0,
      "outputs": []
    },
    {
      "cell_type": "code",
      "metadata": {
        "id": "JinVe-HTcKnD",
        "colab_type": "code",
        "colab": {}
      },
      "source": [
        "#Create DUMMY variables \n",
        "#That is variables with only two values, zero and one.\n",
        "\n",
        "cat_vars=['job','marital','education','default','housing','loan','contact','month','day_of_week','poutcome']\n",
        "for var in cat_vars:\n",
        "    cat_list='var'+'_'+var\n",
        "    cat_list = pd.get_dummies(data[var], prefix=var)\n",
        "    data1=data.join(cat_list)\n",
        "    data=data1\n",
        "cat_vars=['job','marital','education','default','housing','loan','contact','month','day_of_week','poutcome']\n",
        "data_vars=data.columns.values.tolist()\n",
        "to_keep=[i for i in data_vars if i not in cat_vars]\n"
      ],
      "execution_count": 0,
      "outputs": []
    },
    {
      "cell_type": "code",
      "metadata": {
        "id": "AVWrv0OTJ2w6",
        "colab_type": "code",
        "colab": {}
      },
      "source": [
        "print('data_vars = ',data_vars)\n",
        "print('len data_vars = data.columns = ',len(data_vars))\n",
        "print('data now = ',len(data.columns.values))"
      ],
      "execution_count": 0,
      "outputs": []
    },
    {
      "cell_type": "code",
      "metadata": {
        "id": "iy7IaF8F2erS",
        "colab_type": "code",
        "colab": {}
      },
      "source": [
        "print('len to_keep = ',len(to_keep))\n",
        "print('to_keep = ',to_keep)\n",
        "#print(orgData[['job','education']])"
      ],
      "execution_count": 0,
      "outputs": []
    },
    {
      "cell_type": "code",
      "metadata": {
        "id": "XI3y4qSQc9Uk",
        "colab_type": "code",
        "colab": {}
      },
      "source": [
        "# Our final data columns will be:\n",
        "# ----------------------------------------\n",
        "data_final=data[to_keep]\n",
        "data_final.columns.values\n",
        "# ----------------------------------------"
      ],
      "execution_count": 0,
      "outputs": []
    },
    {
      "cell_type": "code",
      "metadata": {
        "id": "Cvpci6aC3C-_",
        "colab_type": "code",
        "colab": {}
      },
      "source": [
        "print('data_final Col.= to_keep = ', len(data_final.columns.values))        # Not include 10 col. main dummy "
      ],
      "execution_count": 0,
      "outputs": []
    },
    {
      "cell_type": "code",
      "metadata": {
        "id": "lcDhCFIkQfsG",
        "colab_type": "code",
        "colab": {}
      },
      "source": [
        "#-----------------------     Sample Command    --------------------------------\n",
        "\n",
        "data_final.loc[:3,'age' : 'pdays']                                             # show 0-3 (4 rows data) of col. AGE  to PDAYS(age,duration,campaign,pdays)\n",
        "data_final.loc[[1,4,7],['age','pdays']]                                      # show data in row no. 1,4 and 7 of col.age and col. pdays\n",
        "data.loc[(data['age'] > 91) & (data['education'] == 'basic')]     # show all row & col. of  age > 91 AND education = basic\n",
        "data.loc[(data['education'].str.contains('p'))]    \n",
        "data.loc[(data['marital'].str.contains('gle'))]     \n",
        "data.loc[(data['education'].str.contains('f'))  |  (data['job'].str.contains('tec')) ]      # show OR condition\n",
        "data.loc[5:10,data.columns=='y']                                          # show data row 5-10 only column 'y'\n",
        "\n",
        "#-----------------------     Sample Command    --------------------------------"
      ],
      "execution_count": 0,
      "outputs": []
    },
    {
      "cell_type": "code",
      "metadata": {
        "id": "BnQB6drGx7Ke",
        "colab_type": "code",
        "colab": {}
      },
      "source": [
        "# select columns\n",
        "#------------------------------------------------------------------\n",
        "X = data_final.loc[:, data_final.columns != 'y']                 # X = data 61 col. except 'y'  41188 rows\n",
        "y = data_final.loc[:, data_final.columns == 'y']                # y  = data 1 col. only 'y'       41188 rows\n",
        "#------------------------------------------------------------------\n",
        "print ('X = ',X)\n",
        "print ('y = ',y)\n",
        "print(X[['age', 'job_admin.', 'marital_single', 'education_Basic', 'education_high.school']])"
      ],
      "execution_count": 0,
      "outputs": []
    },
    {
      "cell_type": "code",
      "metadata": {
        "id": "XHcGjem1RWIj",
        "colab_type": "code",
        "colab": {}
      },
      "source": [
        "# Over sampling ; SMOTE in python (Synthetic Minority Oversampling Technic)\n",
        "# with our training data created, I'll up-sample the no-subscription using the smote algorthm\n",
        "# At a high level,SMOTE:\n",
        "#1. Works by creating synthetic samples from the minor class (no-subscription) instread of creating copies\n",
        "#2.Randomly choosing one of the k-nearest-neighbors and  using it to create a similar.but randomly tweaked, new observations."
      ],
      "execution_count": 0,
      "outputs": []
    },
    {
      "cell_type": "code",
      "metadata": {
        "id": "dEiqQvoEy74B",
        "colab_type": "code",
        "colab": {}
      },
      "source": [
        "# Synthetic Minority Oversampling Technique\n",
        "#---------------------------------------------------------\n",
        "from imblearn.over_sampling import SMOTE\n",
        "os = SMOTE(random_state=0)                                           # SMOTE(k_neighbors=5, kind='deprecated', ... ,svm_estimator='deprecated')\n",
        "#--------------------------------------------------------- \n",
        "print('os = ',os)"
      ],
      "execution_count": 0,
      "outputs": []
    },
    {
      "cell_type": "code",
      "metadata": {
        "id": "5njzr24c0hBs",
        "colab_type": "code",
        "colab": {}
      },
      "source": [
        "# *** Split original data  to  train & test \n",
        "#\n",
        "#--------------------------------------------------------------------------------------------------------------\n",
        "X_train, X_test, y_train, y_test = train_test_split(X, y, test_size=0.3, random_state=0)                 # split train test = 70:30\n",
        "columns = X_train.columns                                                                                                     # X_train.columns = 61 col.\n",
        "#--------------------------------------------------------------------------------------------------------------\n",
        "# \n",
        "print('X_train = ' ,X_train)                      #28831  61 col,     all 41188 ; 41188 * 70% = 28831.6\n",
        "print('X_test = ' ,X_test)                        #12357   61 col.                    41188 * 30% = 12356.4\n",
        "print('y_train = ' ,y_train)                      #28831     1 col.\n",
        "print('y_test = ' ,y_test)                        #12357\n",
        "print('columns  = ' ,columns)                 #col.name  61\n",
        "print('len columns. = X_train.columns = ', len(columns))\n",
        "\n",
        "# *** Train data : real data X_train = 28831  rows\n",
        "# *** Test data  : real data X_test  = 12357  rows\n",
        "# ***       Total  : real data            = 41188  rows\n"
      ],
      "execution_count": 0,
      "outputs": []
    },
    {
      "cell_type": "code",
      "metadata": {
        "id": "p1hr16d87U4f",
        "colab_type": "code",
        "colab": {}
      },
      "source": [
        "# -------------  Make the over sampling data fit to Train data ;  use  Fx.  .fit_sample  ----------- **** \n",
        "# ***  Generate Over Sampling data   ;  code aleready above\n",
        "# ***  from imblearn.over_sampling import SMOTE\n",
        "# ***  os = SMOTE(random_state=0)\n",
        "\n",
        "# ***  Make the over sampling data fit to train data ;  use  Fx.  .fit_sample    *************\n",
        "# ***  and  generate over sampling data from input real data X_train, y_train  ( 28831 rows)   \n",
        "# ***  os_data_X  = real train data (X) + generate new over sampling data X  ( 51134 rows)\n",
        "# ***  os_data_y  = real train data (y) + generate  new over sampling data y  ( 51134 rows)\n",
        "# ***  Data in os_data_X  will be transform to some what values  etc ;3.00000000e+02, floating point or else\n",
        "# b4 called os.fit      ;  X_train  rows  = 28831, y_train = 28831\n",
        "\n",
        "#----------------------------------------------------------------------\n",
        "os_data_X, os_data_y = os.fit_sample(X_train, y_train)                                 \n",
        "#-----------------------------------------------------------------------\n",
        "#  \n",
        "print('Original X_train = ',len(X_train),' rows ' , '  , y_train = ', len(y_train), ' rows')      #     X_train  =  28831  rows   , y_train =  28831   rows\n",
        "                                                                                                                \n",
        "print('Over sampling len os_data_X  = ',len(os_data_X), 'rows')       # after process function  os.fit_sample ;  os_data_x  =  51134 rows (gen. over sampling)\n",
        "print('Over sampling len os_data_y  = ',len(os_data_y), 'rows')        # after process function  os.fit_sample ;  os_data_y  =  51134 rows\n",
        "                                                                                                 # The Over samling data, generate the data with (average or some what value) values in each column\n",
        "print('os_data_X    = ',os_data_X)                                                 # print data ; os_data_X\n",
        "                               \n",
        "print('os_data_y    = ',os_data_y)                                                 # print data ; os_data_y\n"
      ],
      "execution_count": 0,
      "outputs": []
    },
    {
      "cell_type": "code",
      "metadata": {
        "id": "a9TcEbFnLQey",
        "colab_type": "code",
        "colab": {
          "base_uri": "https://localhost:8080/",
          "height": 561
        },
        "outputId": "11a87d04-3d74-48d2-e963-ebd65f87658b"
      },
      "source": [
        "# os_data_X ;  call Fx. pd.DataFrame --> content data converse to normal number (can understand (decimal, integer))\n",
        "\n",
        "#--------------------------------------------------------------------------------\n",
        "os_data_X = pd.DataFrame(data=os_data_X,columns=columns )                 # os_data_X   call Fx. pd.DataFrame content data converse to normal number (easy understanding)\n",
        "os_data_y= pd.DataFrame(data=os_data_y,columns=['y'])                          # os_data_y   call Fx. pd.DataFrame \n",
        "#--------------------------------------------------------------------------------\n",
        "print('os_data_X = ',os_data_X)                                                               \n",
        "print('os_data_y = ',os_data_y)\n",
        "# print(os_data_X[['age', 'job_admin.', 'marital_single', 'education_Basic', 'education_high.school']])\n",
        "print('len os_dat_X   = ',len(os_data_X), 'rows')                                           #  len os_dat_X   =  51134 rows\n",
        "print('len os_data_y  = ',len(os_data_y), 'rows')                                           #  len os_data_y  =  51134 rows\n",
        "\n",
        "print('os_data_y.columns.values = ',len(os_data_y.columns.values))              # os_data_y.columns.values =  1\n",
        "print('os_data_X.columns.values = ',len(os_data_X.columns.values))             # os_data_X.columns.values =  61"
      ],
      "execution_count": 113,
      "outputs": [
        {
          "output_type": "stream",
          "text": [
            "os_data_X =               age    duration  ...  poutcome_nonexistent  poutcome_success\n",
            "0      31.000000  259.000000  ...              0.000000               0.0\n",
            "1      44.000000  300.000000  ...              1.000000               0.0\n",
            "2      43.000000  134.000000  ...              1.000000               0.0\n",
            "3      35.000000  169.000000  ...              1.000000               0.0\n",
            "4      33.000000  255.000000  ...              0.000000               0.0\n",
            "...          ...         ...  ...                   ...               ...\n",
            "51129  43.895499  215.134247  ...              1.000000               0.0\n",
            "51130  79.886325  157.992895  ...              1.000000               0.0\n",
            "51131  27.179033  101.672569  ...              0.000000               1.0\n",
            "51132  36.093185  716.000000  ...              1.000000               0.0\n",
            "51133  69.455358  142.406248  ...              0.772321               0.0\n",
            "\n",
            "[51134 rows x 61 columns]\n",
            "os_data_y =         y\n",
            "0      0\n",
            "1      0\n",
            "2      0\n",
            "3      0\n",
            "4      0\n",
            "...   ..\n",
            "51129  1\n",
            "51130  1\n",
            "51131  1\n",
            "51132  1\n",
            "51133  1\n",
            "\n",
            "[51134 rows x 1 columns]\n",
            "len os_dat_X   =  51134 rows\n",
            "len os_data_y  =  51134 rows\n",
            "os_data_y.columns.values =  1\n",
            "os_data_X.columns.values =  61\n"
          ],
          "name": "stdout"
        }
      ]
    },
    {
      "cell_type": "code",
      "metadata": {
        "id": "vsa9CxbPK-OM",
        "colab_type": "code",
        "outputId": "59a4f14b-376d-4966-96c3-a6bcdf851e72",
        "colab": {
          "base_uri": "https://localhost:8080/",
          "height": 102
        }
      },
      "source": [
        "print(\"length of oversampled data is \",len(os_data_X))                                                                                                 #  len os_dat_X   =  51134 rows\n",
        "print('Number of no subscription in oversampled data ', len(os_data_y[os_data_y['y'] == 0] ))                                         # 25567\n",
        "print(\"Number of subscription\",len(os_data_y[os_data_y['y']==1]))                                                                               #  25567\n",
        "print(\"Proportion of no subscription data in oversampled data is \",len(os_data_y[os_data_y['y']==0])/len(os_data_X))       #  25567 / 51134  = 0.5\n",
        "print(\"Proportion of subscription data in oversampled data is \",len(os_data_y[os_data_y['y']==1])/len(os_data_X))            #  25567 / 51134  = 0.5"
      ],
      "execution_count": 114,
      "outputs": [
        {
          "output_type": "stream",
          "text": [
            "length of oversampled data is  51134\n",
            "Number of no subscription in oversampled data  25567\n",
            "Number of subscription 25567\n",
            "Proportion of no subscription data in oversampled data is  0.5\n",
            "Proportion of subscription data in oversampled data is  0.5\n"
          ],
          "name": "stdout"
        }
      ]
    },
    {
      "cell_type": "code",
      "metadata": {
        "id": "6dNwcTLGdPFs",
        "colab_type": "code",
        "colab": {}
      },
      "source": [
        "# Duplicate code ;  Do not run this srction  for simplify looking\n",
        "#Over-sampling using SMOTE\n",
        "# Summary code ; generate  over sampling data (content data are not in easy format) \n",
        "#                         adjust porpotion of train data to fit over sampling data  (os.fit_sample(...) ) \n",
        "#                         pd.DataFrame(...)  tranfrom data to nornal format easy understanding) \n",
        "X = data_final.loc[:, data_final.columns != 'y']                 # X = 61 col. except 'y'\n",
        "y = data_final.loc[:, data_final.columns == 'y']                # y  = 1 col. only 'y'\n",
        "\n",
        "from imblearn.over_sampling import SMOTE\n",
        "\n",
        "os = SMOTE(random_state=0)\n",
        "X_train, X_test, y_train, y_test = train_test_split(X, y, test_size=0.3, random_state=0)\n",
        "columns = X_train.columns\n",
        "\n",
        "os_data_X, os_data_y = os.fit_sample(X_train, y_train)\n",
        "os_data_X = pd.DataFrame(data=os_data_X,columns=columns )\n",
        "os_data_y = pd.DataFrame(data=os_data_y,columns=['y'])\n",
        "\n",
        "# we can Check the numbers of our data\n",
        "print(\"length of oversampled data is \",len(os_data_X))\n",
        "print(\"Number of no subscription in oversampled data\",len(os_data_y[os_data_y['y']==0]))\n",
        "print(\"Number of subscription\",len(os_data_y[os_data_y['y']==1]))\n",
        "print(\"Proportion of no subscription data in oversampled data is \",len(os_data_y[os_data_y['y']==0])/len(os_data_X))\n",
        "print(\"Proportion of subscription data in oversampled data is \",len(os_data_y[os_data_y['y']==1])/len(os_data_X))"
      ],
      "execution_count": 0,
      "outputs": []
    },
    {
      "cell_type": "code",
      "metadata": {
        "id": "OCJpp53Odb41",
        "colab_type": "code",
        "colab": {}
      },
      "source": [
        "# Recursive Feature Elimination (RFE)\n",
        "# is based on the idea to repeatedly construct a model and choose either the best or worst performing feature\n",
        "# The goal of RFE is to select features by recursively considering smaller and smaller sets of features."
      ],
      "execution_count": 0,
      "outputs": []
    },
    {
      "cell_type": "code",
      "metadata": {
        "id": "u5rmgs3CkDmL",
        "colab_type": "code",
        "colab": {
          "base_uri": "https://localhost:8080/",
          "height": 71
        },
        "outputId": "9dd9eca8-2a4b-4d35-8fe1-feeee11853b4"
      },
      "source": [
        "#------------------------------------------------------------------\n",
        "data_final_vars=data_final.columns.values.tolist()         \n",
        "#-------------------------------------------------------------------\n",
        "print(data_final_vars)                                             # data_final_vars = 62 members  ['age', 'duration', 'campaign', 'pdays',..,'y',... 'poutcome_success']\n",
        "print(len(data_final_vars))"
      ],
      "execution_count": 115,
      "outputs": [
        {
          "output_type": "stream",
          "text": [
            "['age', 'duration', 'campaign', 'pdays', 'previous', 'emp_var_rate', 'cons_price_idx', 'cons_conf_idx', 'euribor3m', 'nr_employed', 'y', 'job_admin.', 'job_blue-collar', 'job_entrepreneur', 'job_housemaid', 'job_management', 'job_retired', 'job_self-employed', 'job_services', 'job_student', 'job_technician', 'job_unemployed', 'job_unknown', 'marital_divorced', 'marital_married', 'marital_single', 'marital_unknown', 'education_Basic', 'education_high.school', 'education_illiterate', 'education_professional.course', 'education_university.degree', 'education_unknown', 'default_no', 'default_unknown', 'default_yes', 'housing_no', 'housing_unknown', 'housing_yes', 'loan_no', 'loan_unknown', 'loan_yes', 'contact_cellular', 'contact_telephone', 'month_apr', 'month_aug', 'month_dec', 'month_jul', 'month_jun', 'month_mar', 'month_may', 'month_nov', 'month_oct', 'month_sep', 'day_of_week_fri', 'day_of_week_mon', 'day_of_week_thu', 'day_of_week_tue', 'day_of_week_wed', 'poutcome_failure', 'poutcome_nonexistent', 'poutcome_success']\n",
            "62\n"
          ],
          "name": "stdout"
        }
      ]
    },
    {
      "cell_type": "code",
      "metadata": {
        "id": "A_Teqe0VlN5c",
        "colab_type": "code",
        "outputId": "7bb86391-12b5-48a9-f54b-d781023f1c89",
        "colab": {
          "base_uri": "https://localhost:8080/",
          "height": 54
        }
      },
      "source": [
        "y = 'y'\n",
        "X=[i for i in data_final_vars if i not in y]\n",
        "print('len X = ',len(X),',' ,'X  = ',X)                                # len X =  61 X  =  ['age', 'duration', 'campaign', ..., 'poutcome_success'] except 'y'"
      ],
      "execution_count": 116,
      "outputs": [
        {
          "output_type": "stream",
          "text": [
            "len X =  61 , X  =  ['age', 'duration', 'campaign', 'pdays', 'previous', 'emp_var_rate', 'cons_price_idx', 'cons_conf_idx', 'euribor3m', 'nr_employed', 'job_admin.', 'job_blue-collar', 'job_entrepreneur', 'job_housemaid', 'job_management', 'job_retired', 'job_self-employed', 'job_services', 'job_student', 'job_technician', 'job_unemployed', 'job_unknown', 'marital_divorced', 'marital_married', 'marital_single', 'marital_unknown', 'education_Basic', 'education_high.school', 'education_illiterate', 'education_professional.course', 'education_university.degree', 'education_unknown', 'default_no', 'default_unknown', 'default_yes', 'housing_no', 'housing_unknown', 'housing_yes', 'loan_no', 'loan_unknown', 'loan_yes', 'contact_cellular', 'contact_telephone', 'month_apr', 'month_aug', 'month_dec', 'month_jul', 'month_jun', 'month_mar', 'month_may', 'month_nov', 'month_oct', 'month_sep', 'day_of_week_fri', 'day_of_week_mon', 'day_of_week_thu', 'day_of_week_tue', 'day_of_week_wed', 'poutcome_failure', 'poutcome_nonexistent', 'poutcome_success']\n"
          ],
          "name": "stdout"
        }
      ]
    },
    {
      "cell_type": "code",
      "metadata": {
        "id": "AkwhowX3_t22",
        "colab_type": "code",
        "outputId": "960ba531-07d9-49a3-f575-b3f1552151ac",
        "colab": {
          "base_uri": "https://localhost:8080/",
          "height": 102
        }
      },
      "source": [
        "#-------------------------------------------------------------------\n",
        "from sklearn.feature_selection import RFE\n",
        "from sklearn.linear_model import LogisticRegression\n",
        "logreg = LogisticRegression()\n",
        "#--------------------------------------------------------------------\n",
        "print('logreg = ',logreg)"
      ],
      "execution_count": 117,
      "outputs": [
        {
          "output_type": "stream",
          "text": [
            "logreg =  LogisticRegression(C=1.0, class_weight=None, dual=False, fit_intercept=True,\n",
            "                   intercept_scaling=1, l1_ratio=None, max_iter=100,\n",
            "                   multi_class='auto', n_jobs=None, penalty='l2',\n",
            "                   random_state=None, solver='lbfgs', tol=0.0001, verbose=0,\n",
            "                   warm_start=False)\n"
          ],
          "name": "stdout"
        }
      ]
    },
    {
      "cell_type": "code",
      "metadata": {
        "id": "U8XLJXl9DiEF",
        "colab_type": "code",
        "colab": {
          "base_uri": "https://localhost:8080/",
          "height": 136
        },
        "outputId": "d1a1b875-914c-48b1-e46c-eed108888332"
      },
      "source": [
        "rfe = RFE(logreg, 20)\n",
        "print (rfe)"
      ],
      "execution_count": 118,
      "outputs": [
        {
          "output_type": "stream",
          "text": [
            "RFE(estimator=LogisticRegression(C=1.0, class_weight=None, dual=False,\n",
            "                                 fit_intercept=True, intercept_scaling=1,\n",
            "                                 l1_ratio=None, max_iter=100,\n",
            "                                 multi_class='auto', n_jobs=None, penalty='l2',\n",
            "                                 random_state=None, solver='lbfgs', tol=0.0001,\n",
            "                                 verbose=0, warm_start=False),\n",
            "    n_features_to_select=20, step=1, verbose=0)\n"
          ],
          "name": "stdout"
        }
      ]
    },
    {
      "cell_type": "code",
      "metadata": {
        "id": "s7T4yv-hEP3M",
        "colab_type": "code",
        "colab": {
          "base_uri": "https://localhost:8080/",
          "height": 1000
        },
        "outputId": "54e33439-18d7-418f-f5b5-013c70f8ea3e"
      },
      "source": [
        "rfe = rfe.fit(os_data_X, os_data_y.values.ravel())\n",
        "print('rfe = ',rfe)"
      ],
      "execution_count": 119,
      "outputs": [
        {
          "output_type": "stream",
          "text": [
            "/usr/local/lib/python3.6/dist-packages/sklearn/linear_model/_logistic.py:940: ConvergenceWarning: lbfgs failed to converge (status=1):\n",
            "STOP: TOTAL NO. of ITERATIONS REACHED LIMIT.\n",
            "\n",
            "Increase the number of iterations (max_iter) or scale the data as shown in:\n",
            "    https://scikit-learn.org/stable/modules/preprocessing.html\n",
            "Please also refer to the documentation for alternative solver options:\n",
            "    https://scikit-learn.org/stable/modules/linear_model.html#logistic-regression\n",
            "  extra_warning_msg=_LOGISTIC_SOLVER_CONVERGENCE_MSG)\n",
            "/usr/local/lib/python3.6/dist-packages/sklearn/linear_model/_logistic.py:940: ConvergenceWarning: lbfgs failed to converge (status=1):\n",
            "STOP: TOTAL NO. of ITERATIONS REACHED LIMIT.\n",
            "\n",
            "Increase the number of iterations (max_iter) or scale the data as shown in:\n",
            "    https://scikit-learn.org/stable/modules/preprocessing.html\n",
            "Please also refer to the documentation for alternative solver options:\n",
            "    https://scikit-learn.org/stable/modules/linear_model.html#logistic-regression\n",
            "  extra_warning_msg=_LOGISTIC_SOLVER_CONVERGENCE_MSG)\n",
            "/usr/local/lib/python3.6/dist-packages/sklearn/linear_model/_logistic.py:940: ConvergenceWarning: lbfgs failed to converge (status=1):\n",
            "STOP: TOTAL NO. of ITERATIONS REACHED LIMIT.\n",
            "\n",
            "Increase the number of iterations (max_iter) or scale the data as shown in:\n",
            "    https://scikit-learn.org/stable/modules/preprocessing.html\n",
            "Please also refer to the documentation for alternative solver options:\n",
            "    https://scikit-learn.org/stable/modules/linear_model.html#logistic-regression\n",
            "  extra_warning_msg=_LOGISTIC_SOLVER_CONVERGENCE_MSG)\n",
            "/usr/local/lib/python3.6/dist-packages/sklearn/linear_model/_logistic.py:940: ConvergenceWarning: lbfgs failed to converge (status=1):\n",
            "STOP: TOTAL NO. of ITERATIONS REACHED LIMIT.\n",
            "\n",
            "Increase the number of iterations (max_iter) or scale the data as shown in:\n",
            "    https://scikit-learn.org/stable/modules/preprocessing.html\n",
            "Please also refer to the documentation for alternative solver options:\n",
            "    https://scikit-learn.org/stable/modules/linear_model.html#logistic-regression\n",
            "  extra_warning_msg=_LOGISTIC_SOLVER_CONVERGENCE_MSG)\n",
            "/usr/local/lib/python3.6/dist-packages/sklearn/linear_model/_logistic.py:940: ConvergenceWarning: lbfgs failed to converge (status=1):\n",
            "STOP: TOTAL NO. of ITERATIONS REACHED LIMIT.\n",
            "\n",
            "Increase the number of iterations (max_iter) or scale the data as shown in:\n",
            "    https://scikit-learn.org/stable/modules/preprocessing.html\n",
            "Please also refer to the documentation for alternative solver options:\n",
            "    https://scikit-learn.org/stable/modules/linear_model.html#logistic-regression\n",
            "  extra_warning_msg=_LOGISTIC_SOLVER_CONVERGENCE_MSG)\n",
            "/usr/local/lib/python3.6/dist-packages/sklearn/linear_model/_logistic.py:940: ConvergenceWarning: lbfgs failed to converge (status=1):\n",
            "STOP: TOTAL NO. of ITERATIONS REACHED LIMIT.\n",
            "\n",
            "Increase the number of iterations (max_iter) or scale the data as shown in:\n",
            "    https://scikit-learn.org/stable/modules/preprocessing.html\n",
            "Please also refer to the documentation for alternative solver options:\n",
            "    https://scikit-learn.org/stable/modules/linear_model.html#logistic-regression\n",
            "  extra_warning_msg=_LOGISTIC_SOLVER_CONVERGENCE_MSG)\n",
            "/usr/local/lib/python3.6/dist-packages/sklearn/linear_model/_logistic.py:940: ConvergenceWarning: lbfgs failed to converge (status=1):\n",
            "STOP: TOTAL NO. of ITERATIONS REACHED LIMIT.\n",
            "\n",
            "Increase the number of iterations (max_iter) or scale the data as shown in:\n",
            "    https://scikit-learn.org/stable/modules/preprocessing.html\n",
            "Please also refer to the documentation for alternative solver options:\n",
            "    https://scikit-learn.org/stable/modules/linear_model.html#logistic-regression\n",
            "  extra_warning_msg=_LOGISTIC_SOLVER_CONVERGENCE_MSG)\n",
            "/usr/local/lib/python3.6/dist-packages/sklearn/linear_model/_logistic.py:940: ConvergenceWarning: lbfgs failed to converge (status=1):\n",
            "STOP: TOTAL NO. of ITERATIONS REACHED LIMIT.\n",
            "\n",
            "Increase the number of iterations (max_iter) or scale the data as shown in:\n",
            "    https://scikit-learn.org/stable/modules/preprocessing.html\n",
            "Please also refer to the documentation for alternative solver options:\n",
            "    https://scikit-learn.org/stable/modules/linear_model.html#logistic-regression\n",
            "  extra_warning_msg=_LOGISTIC_SOLVER_CONVERGENCE_MSG)\n",
            "/usr/local/lib/python3.6/dist-packages/sklearn/linear_model/_logistic.py:940: ConvergenceWarning: lbfgs failed to converge (status=1):\n",
            "STOP: TOTAL NO. of ITERATIONS REACHED LIMIT.\n",
            "\n",
            "Increase the number of iterations (max_iter) or scale the data as shown in:\n",
            "    https://scikit-learn.org/stable/modules/preprocessing.html\n",
            "Please also refer to the documentation for alternative solver options:\n",
            "    https://scikit-learn.org/stable/modules/linear_model.html#logistic-regression\n",
            "  extra_warning_msg=_LOGISTIC_SOLVER_CONVERGENCE_MSG)\n",
            "/usr/local/lib/python3.6/dist-packages/sklearn/linear_model/_logistic.py:940: ConvergenceWarning: lbfgs failed to converge (status=1):\n",
            "STOP: TOTAL NO. of ITERATIONS REACHED LIMIT.\n",
            "\n",
            "Increase the number of iterations (max_iter) or scale the data as shown in:\n",
            "    https://scikit-learn.org/stable/modules/preprocessing.html\n",
            "Please also refer to the documentation for alternative solver options:\n",
            "    https://scikit-learn.org/stable/modules/linear_model.html#logistic-regression\n",
            "  extra_warning_msg=_LOGISTIC_SOLVER_CONVERGENCE_MSG)\n",
            "/usr/local/lib/python3.6/dist-packages/sklearn/linear_model/_logistic.py:940: ConvergenceWarning: lbfgs failed to converge (status=1):\n",
            "STOP: TOTAL NO. of ITERATIONS REACHED LIMIT.\n",
            "\n",
            "Increase the number of iterations (max_iter) or scale the data as shown in:\n",
            "    https://scikit-learn.org/stable/modules/preprocessing.html\n",
            "Please also refer to the documentation for alternative solver options:\n",
            "    https://scikit-learn.org/stable/modules/linear_model.html#logistic-regression\n",
            "  extra_warning_msg=_LOGISTIC_SOLVER_CONVERGENCE_MSG)\n",
            "/usr/local/lib/python3.6/dist-packages/sklearn/linear_model/_logistic.py:940: ConvergenceWarning: lbfgs failed to converge (status=1):\n",
            "STOP: TOTAL NO. of ITERATIONS REACHED LIMIT.\n",
            "\n",
            "Increase the number of iterations (max_iter) or scale the data as shown in:\n",
            "    https://scikit-learn.org/stable/modules/preprocessing.html\n",
            "Please also refer to the documentation for alternative solver options:\n",
            "    https://scikit-learn.org/stable/modules/linear_model.html#logistic-regression\n",
            "  extra_warning_msg=_LOGISTIC_SOLVER_CONVERGENCE_MSG)\n",
            "/usr/local/lib/python3.6/dist-packages/sklearn/linear_model/_logistic.py:940: ConvergenceWarning: lbfgs failed to converge (status=1):\n",
            "STOP: TOTAL NO. of ITERATIONS REACHED LIMIT.\n",
            "\n",
            "Increase the number of iterations (max_iter) or scale the data as shown in:\n",
            "    https://scikit-learn.org/stable/modules/preprocessing.html\n",
            "Please also refer to the documentation for alternative solver options:\n",
            "    https://scikit-learn.org/stable/modules/linear_model.html#logistic-regression\n",
            "  extra_warning_msg=_LOGISTIC_SOLVER_CONVERGENCE_MSG)\n",
            "/usr/local/lib/python3.6/dist-packages/sklearn/linear_model/_logistic.py:940: ConvergenceWarning: lbfgs failed to converge (status=1):\n",
            "STOP: TOTAL NO. of ITERATIONS REACHED LIMIT.\n",
            "\n",
            "Increase the number of iterations (max_iter) or scale the data as shown in:\n",
            "    https://scikit-learn.org/stable/modules/preprocessing.html\n",
            "Please also refer to the documentation for alternative solver options:\n",
            "    https://scikit-learn.org/stable/modules/linear_model.html#logistic-regression\n",
            "  extra_warning_msg=_LOGISTIC_SOLVER_CONVERGENCE_MSG)\n",
            "/usr/local/lib/python3.6/dist-packages/sklearn/linear_model/_logistic.py:940: ConvergenceWarning: lbfgs failed to converge (status=1):\n",
            "STOP: TOTAL NO. of ITERATIONS REACHED LIMIT.\n",
            "\n",
            "Increase the number of iterations (max_iter) or scale the data as shown in:\n",
            "    https://scikit-learn.org/stable/modules/preprocessing.html\n",
            "Please also refer to the documentation for alternative solver options:\n",
            "    https://scikit-learn.org/stable/modules/linear_model.html#logistic-regression\n",
            "  extra_warning_msg=_LOGISTIC_SOLVER_CONVERGENCE_MSG)\n",
            "/usr/local/lib/python3.6/dist-packages/sklearn/linear_model/_logistic.py:940: ConvergenceWarning: lbfgs failed to converge (status=1):\n",
            "STOP: TOTAL NO. of ITERATIONS REACHED LIMIT.\n",
            "\n",
            "Increase the number of iterations (max_iter) or scale the data as shown in:\n",
            "    https://scikit-learn.org/stable/modules/preprocessing.html\n",
            "Please also refer to the documentation for alternative solver options:\n",
            "    https://scikit-learn.org/stable/modules/linear_model.html#logistic-regression\n",
            "  extra_warning_msg=_LOGISTIC_SOLVER_CONVERGENCE_MSG)\n",
            "/usr/local/lib/python3.6/dist-packages/sklearn/linear_model/_logistic.py:940: ConvergenceWarning: lbfgs failed to converge (status=1):\n",
            "STOP: TOTAL NO. of ITERATIONS REACHED LIMIT.\n",
            "\n",
            "Increase the number of iterations (max_iter) or scale the data as shown in:\n",
            "    https://scikit-learn.org/stable/modules/preprocessing.html\n",
            "Please also refer to the documentation for alternative solver options:\n",
            "    https://scikit-learn.org/stable/modules/linear_model.html#logistic-regression\n",
            "  extra_warning_msg=_LOGISTIC_SOLVER_CONVERGENCE_MSG)\n",
            "/usr/local/lib/python3.6/dist-packages/sklearn/linear_model/_logistic.py:940: ConvergenceWarning: lbfgs failed to converge (status=1):\n",
            "STOP: TOTAL NO. of ITERATIONS REACHED LIMIT.\n",
            "\n",
            "Increase the number of iterations (max_iter) or scale the data as shown in:\n",
            "    https://scikit-learn.org/stable/modules/preprocessing.html\n",
            "Please also refer to the documentation for alternative solver options:\n",
            "    https://scikit-learn.org/stable/modules/linear_model.html#logistic-regression\n",
            "  extra_warning_msg=_LOGISTIC_SOLVER_CONVERGENCE_MSG)\n",
            "/usr/local/lib/python3.6/dist-packages/sklearn/linear_model/_logistic.py:940: ConvergenceWarning: lbfgs failed to converge (status=1):\n",
            "STOP: TOTAL NO. of ITERATIONS REACHED LIMIT.\n",
            "\n",
            "Increase the number of iterations (max_iter) or scale the data as shown in:\n",
            "    https://scikit-learn.org/stable/modules/preprocessing.html\n",
            "Please also refer to the documentation for alternative solver options:\n",
            "    https://scikit-learn.org/stable/modules/linear_model.html#logistic-regression\n",
            "  extra_warning_msg=_LOGISTIC_SOLVER_CONVERGENCE_MSG)\n",
            "/usr/local/lib/python3.6/dist-packages/sklearn/linear_model/_logistic.py:940: ConvergenceWarning: lbfgs failed to converge (status=1):\n",
            "STOP: TOTAL NO. of ITERATIONS REACHED LIMIT.\n",
            "\n",
            "Increase the number of iterations (max_iter) or scale the data as shown in:\n",
            "    https://scikit-learn.org/stable/modules/preprocessing.html\n",
            "Please also refer to the documentation for alternative solver options:\n",
            "    https://scikit-learn.org/stable/modules/linear_model.html#logistic-regression\n",
            "  extra_warning_msg=_LOGISTIC_SOLVER_CONVERGENCE_MSG)\n",
            "/usr/local/lib/python3.6/dist-packages/sklearn/linear_model/_logistic.py:940: ConvergenceWarning: lbfgs failed to converge (status=1):\n",
            "STOP: TOTAL NO. of ITERATIONS REACHED LIMIT.\n",
            "\n",
            "Increase the number of iterations (max_iter) or scale the data as shown in:\n",
            "    https://scikit-learn.org/stable/modules/preprocessing.html\n",
            "Please also refer to the documentation for alternative solver options:\n",
            "    https://scikit-learn.org/stable/modules/linear_model.html#logistic-regression\n",
            "  extra_warning_msg=_LOGISTIC_SOLVER_CONVERGENCE_MSG)\n",
            "/usr/local/lib/python3.6/dist-packages/sklearn/linear_model/_logistic.py:940: ConvergenceWarning: lbfgs failed to converge (status=1):\n",
            "STOP: TOTAL NO. of ITERATIONS REACHED LIMIT.\n",
            "\n",
            "Increase the number of iterations (max_iter) or scale the data as shown in:\n",
            "    https://scikit-learn.org/stable/modules/preprocessing.html\n",
            "Please also refer to the documentation for alternative solver options:\n",
            "    https://scikit-learn.org/stable/modules/linear_model.html#logistic-regression\n",
            "  extra_warning_msg=_LOGISTIC_SOLVER_CONVERGENCE_MSG)\n",
            "/usr/local/lib/python3.6/dist-packages/sklearn/linear_model/_logistic.py:940: ConvergenceWarning: lbfgs failed to converge (status=1):\n",
            "STOP: TOTAL NO. of ITERATIONS REACHED LIMIT.\n",
            "\n",
            "Increase the number of iterations (max_iter) or scale the data as shown in:\n",
            "    https://scikit-learn.org/stable/modules/preprocessing.html\n",
            "Please also refer to the documentation for alternative solver options:\n",
            "    https://scikit-learn.org/stable/modules/linear_model.html#logistic-regression\n",
            "  extra_warning_msg=_LOGISTIC_SOLVER_CONVERGENCE_MSG)\n",
            "/usr/local/lib/python3.6/dist-packages/sklearn/linear_model/_logistic.py:940: ConvergenceWarning: lbfgs failed to converge (status=1):\n",
            "STOP: TOTAL NO. of ITERATIONS REACHED LIMIT.\n",
            "\n",
            "Increase the number of iterations (max_iter) or scale the data as shown in:\n",
            "    https://scikit-learn.org/stable/modules/preprocessing.html\n",
            "Please also refer to the documentation for alternative solver options:\n",
            "    https://scikit-learn.org/stable/modules/linear_model.html#logistic-regression\n",
            "  extra_warning_msg=_LOGISTIC_SOLVER_CONVERGENCE_MSG)\n",
            "/usr/local/lib/python3.6/dist-packages/sklearn/linear_model/_logistic.py:940: ConvergenceWarning: lbfgs failed to converge (status=1):\n",
            "STOP: TOTAL NO. of ITERATIONS REACHED LIMIT.\n",
            "\n",
            "Increase the number of iterations (max_iter) or scale the data as shown in:\n",
            "    https://scikit-learn.org/stable/modules/preprocessing.html\n",
            "Please also refer to the documentation for alternative solver options:\n",
            "    https://scikit-learn.org/stable/modules/linear_model.html#logistic-regression\n",
            "  extra_warning_msg=_LOGISTIC_SOLVER_CONVERGENCE_MSG)\n",
            "/usr/local/lib/python3.6/dist-packages/sklearn/linear_model/_logistic.py:940: ConvergenceWarning: lbfgs failed to converge (status=1):\n",
            "STOP: TOTAL NO. of ITERATIONS REACHED LIMIT.\n",
            "\n",
            "Increase the number of iterations (max_iter) or scale the data as shown in:\n",
            "    https://scikit-learn.org/stable/modules/preprocessing.html\n",
            "Please also refer to the documentation for alternative solver options:\n",
            "    https://scikit-learn.org/stable/modules/linear_model.html#logistic-regression\n",
            "  extra_warning_msg=_LOGISTIC_SOLVER_CONVERGENCE_MSG)\n",
            "/usr/local/lib/python3.6/dist-packages/sklearn/linear_model/_logistic.py:940: ConvergenceWarning: lbfgs failed to converge (status=1):\n",
            "STOP: TOTAL NO. of ITERATIONS REACHED LIMIT.\n",
            "\n",
            "Increase the number of iterations (max_iter) or scale the data as shown in:\n",
            "    https://scikit-learn.org/stable/modules/preprocessing.html\n",
            "Please also refer to the documentation for alternative solver options:\n",
            "    https://scikit-learn.org/stable/modules/linear_model.html#logistic-regression\n",
            "  extra_warning_msg=_LOGISTIC_SOLVER_CONVERGENCE_MSG)\n",
            "/usr/local/lib/python3.6/dist-packages/sklearn/linear_model/_logistic.py:940: ConvergenceWarning: lbfgs failed to converge (status=1):\n",
            "STOP: TOTAL NO. of ITERATIONS REACHED LIMIT.\n",
            "\n",
            "Increase the number of iterations (max_iter) or scale the data as shown in:\n",
            "    https://scikit-learn.org/stable/modules/preprocessing.html\n",
            "Please also refer to the documentation for alternative solver options:\n",
            "    https://scikit-learn.org/stable/modules/linear_model.html#logistic-regression\n",
            "  extra_warning_msg=_LOGISTIC_SOLVER_CONVERGENCE_MSG)\n",
            "/usr/local/lib/python3.6/dist-packages/sklearn/linear_model/_logistic.py:940: ConvergenceWarning: lbfgs failed to converge (status=1):\n",
            "STOP: TOTAL NO. of ITERATIONS REACHED LIMIT.\n",
            "\n",
            "Increase the number of iterations (max_iter) or scale the data as shown in:\n",
            "    https://scikit-learn.org/stable/modules/preprocessing.html\n",
            "Please also refer to the documentation for alternative solver options:\n",
            "    https://scikit-learn.org/stable/modules/linear_model.html#logistic-regression\n",
            "  extra_warning_msg=_LOGISTIC_SOLVER_CONVERGENCE_MSG)\n",
            "/usr/local/lib/python3.6/dist-packages/sklearn/linear_model/_logistic.py:940: ConvergenceWarning: lbfgs failed to converge (status=1):\n",
            "STOP: TOTAL NO. of ITERATIONS REACHED LIMIT.\n",
            "\n",
            "Increase the number of iterations (max_iter) or scale the data as shown in:\n",
            "    https://scikit-learn.org/stable/modules/preprocessing.html\n",
            "Please also refer to the documentation for alternative solver options:\n",
            "    https://scikit-learn.org/stable/modules/linear_model.html#logistic-regression\n",
            "  extra_warning_msg=_LOGISTIC_SOLVER_CONVERGENCE_MSG)\n"
          ],
          "name": "stderr"
        },
        {
          "output_type": "stream",
          "text": [
            "rfe =  RFE(estimator=LogisticRegression(C=1.0, class_weight=None, dual=False,\n",
            "                                 fit_intercept=True, intercept_scaling=1,\n",
            "                                 l1_ratio=None, max_iter=100,\n",
            "                                 multi_class='auto', n_jobs=None, penalty='l2',\n",
            "                                 random_state=None, solver='lbfgs', tol=0.0001,\n",
            "                                 verbose=0, warm_start=False),\n",
            "    n_features_to_select=20, step=1, verbose=0)\n"
          ],
          "name": "stdout"
        }
      ]
    },
    {
      "cell_type": "code",
      "metadata": {
        "id": "twtEyiwrFJu1",
        "colab_type": "code",
        "outputId": "99de8aa4-acf8-4747-f582-380f8085b932",
        "colab": {
          "base_uri": "https://localhost:8080/",
          "height": 170
        }
      },
      "source": [
        "print(rfe.support_)\n",
        "print(rfe.ranking_)"
      ],
      "execution_count": 0,
      "outputs": [
        {
          "output_type": "stream",
          "text": [
            "[False False False False  True  True False False False False  True False\n",
            " False  True False  True False False  True False False False False False\n",
            " False False  True False False False False False False  True False False\n",
            " False False False False False False  True False False False  True  True\n",
            "  True  True  True  True  True False  True False False  True  True False\n",
            "  True]\n",
            "[30 32  8 39  1  1 24 40 35 25  1 21 14  1 36  1 12 20  1 13  4 28 18 27\n",
            " 10 41  1 29 34 31  5  9  7  1 42 11 23 33 17 22 26 15  1  3  2 37  1  1\n",
            "  1  1  1  1  1 19  1  6 16  1  1 38  1]\n"
          ],
          "name": "stdout"
        }
      ]
    },
    {
      "cell_type": "code",
      "metadata": {
        "id": "HF5Sj2EDuM-2",
        "colab_type": "code",
        "outputId": "b9e14fd4-7777-4094-a0fb-049bf8dc6097",
        "colab": {
          "base_uri": "https://localhost:8080/",
          "height": 54
        }
      },
      "source": [
        "print(sorted(rfe.ranking_))"
      ],
      "execution_count": 0,
      "outputs": [
        {
          "output_type": "stream",
          "text": [
            "[1, 1, 1, 1, 1, 1, 1, 1, 1, 1, 1, 1, 1, 1, 1, 1, 1, 1, 1, 1, 2, 3, 4, 5, 6, 7, 8, 9, 10, 11, 12, 13, 14, 15, 16, 17, 18, 19, 20, 21, 22, 23, 24, 25, 26, 27, 28, 29, 30, 31, 32, 33, 34, 35, 36, 37, 38, 39, 40, 41, 42]\n"
          ],
          "name": "stdout"
        }
      ]
    },
    {
      "cell_type": "code",
      "metadata": {
        "id": "Q5DHUYxLdjWd",
        "colab_type": "code",
        "colab": {}
      },
      "source": [
        "#---------------- Recursive Feature Elimination (RFE)\n",
        "# Sumary code RFE duplicate above code for easy looking (Do not run this section) \n",
        "\n",
        "data_final_vars=data_final.columns.values.tolist()\n",
        "y=['y']\n",
        "X=[i for i in data_final_vars if i not in y]\n",
        "\n",
        "from sklearn.feature_selection import RFE\n",
        "from sklearn.linear_model import LogisticRegression\n",
        "\n",
        "logreg = LogisticRegression()\n",
        "\n",
        "rfe = RFE(logreg, 20)\n",
        "rfe = rfe.fit(os_data_X, os_data_y.values.ravel())\n",
        "print(rfe.support_)\n",
        "print(rfe.ranking_)"
      ],
      "execution_count": 0,
      "outputs": []
    },
    {
      "cell_type": "code",
      "metadata": {
        "id": "MtUn31BAzWcD",
        "colab_type": "code",
        "outputId": "d4a1ff0e-5d25-4151-8c32-90de056f79ea",
        "colab": {
          "base_uri": "https://localhost:8080/",
          "height": 34
        }
      },
      "source": [
        "print(os_data_y.values.ravel())"
      ],
      "execution_count": 120,
      "outputs": [
        {
          "output_type": "stream",
          "text": [
            "[0 0 0 ... 1 1 1]\n"
          ],
          "name": "stdout"
        }
      ]
    },
    {
      "cell_type": "code",
      "metadata": {
        "id": "lnaScBUSkWzx",
        "colab_type": "code",
        "outputId": "9612b1aa-8c87-4830-b935-b42d93025dc0",
        "colab": {
          "base_uri": "https://localhost:8080/",
          "height": 54
        }
      },
      "source": [
        "#The list of effective features\n",
        "cols=[]\n",
        "i= 0\n",
        "f=sorted(zip(map(lambda x: round(x, 4), rfe.ranking_), data_final))\n",
        "print(f)"
      ],
      "execution_count": 0,
      "outputs": [
        {
          "output_type": "stream",
          "text": [
            "[(1, 'contact_cellular'), (1, 'day_of_week_fri'), (1, 'day_of_week_tue'), (1, 'day_of_week_wed'), (1, 'default_no'), (1, 'emp_var_rate'), (1, 'job_entrepreneur'), (1, 'job_management'), (1, 'job_services'), (1, 'marital_unknown'), (1, 'month_dec'), (1, 'month_jul'), (1, 'month_jun'), (1, 'month_mar'), (1, 'month_may'), (1, 'month_nov'), (1, 'month_oct'), (1, 'poutcome_nonexistent'), (1, 'previous'), (1, 'y'), (2, 'month_apr'), (3, 'contact_telephone'), (4, 'job_technician'), (5, 'education_professional.course'), (6, 'day_of_week_mon'), (7, 'education_unknown'), (8, 'campaign'), (9, 'education_university.degree'), (10, 'marital_married'), (11, 'default_yes'), (12, 'job_retired'), (13, 'job_student'), (14, 'job_blue-collar'), (15, 'loan_yes'), (16, 'day_of_week_thu'), (17, 'housing_yes'), (18, 'job_unknown'), (19, 'month_sep'), (20, 'job_self-employed'), (21, 'job_admin.'), (22, 'loan_no'), (23, 'housing_no'), (24, 'cons_price_idx'), (25, 'nr_employed'), (26, 'loan_unknown'), (27, 'marital_divorced'), (28, 'job_unemployed'), (29, 'education_Basic'), (30, 'age'), (31, 'education_illiterate'), (32, 'duration'), (33, 'housing_unknown'), (34, 'education_high.school'), (35, 'euribor3m'), (36, 'job_housemaid'), (37, 'month_aug'), (38, 'poutcome_failure'), (39, 'pdays'), (40, 'cons_conf_idx'), (41, 'marital_single'), (42, 'default_unknown')]\n"
          ],
          "name": "stdout"
        }
      ]
    },
    {
      "cell_type": "code",
      "metadata": {
        "id": "qtNYIN6UeOvO",
        "colab_type": "code",
        "colab": {}
      },
      "source": [
        "# selected feature output from Recursive Feature Elimination (RFE)\n",
        "\n",
        "cols=['euribor3m', 'job_blue-collar', 'job_housemaid', 'marital_unknown', 'education_illiterate', 'default_no', 'default_unknown', \n",
        "      'contact_cellular', 'contact_telephone', 'month_apr', 'month_aug', 'month_dec', 'month_jul', 'month_jun', 'month_mar', \n",
        "      'month_may', 'month_nov', 'month_oct', \"poutcome_failure\", \"poutcome_success\"] \n",
        "X = os_data_X[cols]\n",
        "y = os_data_y['y']     "
      ],
      "execution_count": 0,
      "outputs": []
    },
    {
      "cell_type": "code",
      "metadata": {
        "id": "hC3Zf_svEOLN",
        "colab_type": "code",
        "outputId": "9439fa11-8ee8-4d80-ca91-48fa8d37b541",
        "colab": {
          "base_uri": "https://localhost:8080/",
          "height": 697
        }
      },
      "source": [
        "# Implementing the model\n",
        "#-------------------------------------------\n",
        "import statsmodels.api as sm\n",
        "logit_model = sm.Logit(y,X)\n",
        "result  = logit_model.fit()\n",
        "print(result.summary2())\n",
        "#-------------------------------------------"
      ],
      "execution_count": 122,
      "outputs": [
        {
          "output_type": "stream",
          "text": [
            "Warning: Maximum number of iterations has been exceeded.\n",
            "         Current function value: 0.545904\n",
            "         Iterations: 35\n",
            "                                Results: Logit\n",
            "==============================================================================\n",
            "Model:                   Logit                Pseudo R-squared:     0.212     \n",
            "Dependent Variable:      y                    AIC:                  55868.4619\n",
            "Date:                    2020-02-17 10:55     BIC:                  56045.3060\n",
            "No. Observations:        51134                Log-Likelihood:       -27914.   \n",
            "Df Model:                19                   LL-Null:              -35443.   \n",
            "Df Residuals:            51114                LLR p-value:          0.0000    \n",
            "Converged:               0.0000               Scale:                1.0000    \n",
            "No. Iterations:          35.0000                                              \n",
            "------------------------------------------------------------------------------\n",
            "                      Coef.    Std.Err.    z     P>|z|     [0.025     0.975]  \n",
            "------------------------------------------------------------------------------\n",
            "euribor3m             -0.4634    0.0091 -50.9423 0.0000     -0.4812    -0.4456\n",
            "job_blue-collar       -0.1772    0.0284  -6.2484 0.0000     -0.2328    -0.1216\n",
            "job_housemaid         -0.3268    0.0778  -4.2022 0.0000     -0.4792    -0.1744\n",
            "marital_unknown        0.7452    0.2253   3.3074 0.0009      0.3036     1.1868\n",
            "education_illiterate   1.3163    0.4373   3.0099 0.0026      0.4592     2.1735\n",
            "default_no            16.1527 5414.0603   0.0030 0.9976 -10595.2105 10627.5160\n",
            "default_unknown       15.8936 5414.0603   0.0029 0.9977 -10595.4697 10627.2568\n",
            "contact_cellular     -13.9394 5414.0603  -0.0026 0.9979 -10625.3027 10597.4238\n",
            "contact_telephone    -14.0063 5414.0603  -0.0026 0.9979 -10625.3695 10597.3570\n",
            "month_apr             -0.8362    0.0913  -9.1563 0.0000     -1.0152    -0.6572\n",
            "month_aug             -0.6896    0.0929  -7.4202 0.0000     -0.8718    -0.5075\n",
            "month_dec             -0.4233    0.1655  -2.5577 0.0105     -0.7477    -0.0989\n",
            "month_jul             -0.4045    0.0935  -4.3264 0.0000     -0.5877    -0.2212\n",
            "month_jun             -0.4810    0.0917  -5.2466 0.0000     -0.6607    -0.3013\n",
            "month_mar              0.6637    0.1229   5.3984 0.0000      0.4227     0.9047\n",
            "month_may             -1.4737    0.0874 -16.8645 0.0000     -1.6450    -1.3025\n",
            "month_nov             -0.8292    0.0942  -8.8024 0.0000     -1.0138    -0.6446\n",
            "month_oct              0.5004    0.1174   4.2608 0.0000      0.2702     0.7306\n",
            "poutcome_failure      -0.5006    0.0363 -13.7864 0.0000     -0.5717    -0.4294\n",
            "poutcome_success       1.5788    0.0618  25.5318 0.0000      1.4576     1.7000\n",
            "==============================================================================\n",
            "\n"
          ],
          "name": "stdout"
        },
        {
          "output_type": "stream",
          "text": [
            "/usr/local/lib/python3.6/dist-packages/statsmodels/base/model.py:512: ConvergenceWarning: Maximum Likelihood optimization failed to converge. Check mle_retvals\n",
            "  \"Check mle_retvals\", ConvergenceWarning)\n"
          ],
          "name": "stderr"
        }
      ]
    },
    {
      "cell_type": "markdown",
      "metadata": {
        "id": "FsXtYAq7nqkl",
        "colab_type": "text"
      },
      "source": [
        "The p-values for most of the variables are smaller than 0.05, except four variables, therefore, we will remove them. 0.9976 ,0.9979,0.9977"
      ]
    },
    {
      "cell_type": "code",
      "metadata": {
        "id": "kPslRhgegx-_",
        "colab_type": "code",
        "outputId": "464cc07f-6307-49ab-8144-b59756582c95",
        "colab": {
          "base_uri": "https://localhost:8080/",
          "height": 595
        }
      },
      "source": [
        "# The p-values for most of the variables are smaller than 0.05, except four variables, therefore, we will remove them. \n",
        "# default_no  = 0.9976 , ,default_unknow =  0.9977, contact_cellular=  0.9979, contact_telephone = 0.9979\n",
        "#-------------------------------------------------------------------\n",
        "cols=['euribor3m', 'job_blue-collar', 'job_housemaid', 'marital_unknown', 'education_illiterate', \n",
        "         'month_apr', 'month_aug', 'month_dec', 'month_jul', 'month_jun', 'month_mar', \n",
        "         'month_may', 'month_nov', 'month_oct', \"poutcome_failure\", \"poutcome_success\"]\n",
        "X = os_data_X[cols]\n",
        "y = os_data_y['y']\n",
        "logit_model = sm.Logit(y,X)\n",
        "result = logit_model.fit()\n",
        "print(result.summary2())\n",
        "#-------------------------------------------------------------------------------------------------------------------      "
      ],
      "execution_count": 127,
      "outputs": [
        {
          "output_type": "stream",
          "text": [
            "Optimization terminated successfully.\n",
            "         Current function value: 0.555890\n",
            "         Iterations 7\n",
            "                           Results: Logit\n",
            "=====================================================================\n",
            "Model:                Logit             Pseudo R-squared:  0.198     \n",
            "Dependent Variable:   y                 AIC:               56881.7793\n",
            "Date:                 2020-02-17 11:03  BIC:               57023.2546\n",
            "No. Observations:     51134             Log-Likelihood:    -28425.   \n",
            "Df Model:             15                LL-Null:           -35443.   \n",
            "Df Residuals:         51118             LLR p-value:       0.0000    \n",
            "Converged:            1.0000            Scale:             1.0000    \n",
            "No. Iterations:       7.0000                                         \n",
            "---------------------------------------------------------------------\n",
            "                      Coef.  Std.Err.    z     P>|z|   [0.025  0.975]\n",
            "---------------------------------------------------------------------\n",
            "euribor3m            -0.4488   0.0074 -60.6838 0.0000 -0.4632 -0.4343\n",
            "job_blue-collar      -0.2097   0.0278  -7.5345 0.0000 -0.2643 -0.1552\n",
            "job_housemaid        -0.2793   0.0762  -3.6636 0.0002 -0.4287 -0.1299\n",
            "marital_unknown       0.7618   0.2244   3.3953 0.0007  0.3220  1.2016\n",
            "education_illiterate  1.3085   0.4346   3.0108 0.0026  0.4567  2.1604\n",
            "month_apr             1.2863   0.0380  33.8252 0.0000  1.2117  1.3608\n",
            "month_aug             1.3948   0.0411  33.9435 0.0000  1.3143  1.4754\n",
            "month_dec             1.8090   0.1441  12.5523 0.0000  1.5265  2.0915\n",
            "month_jul             1.6763   0.0424  39.5459 0.0000  1.5932  1.7594\n",
            "month_jun             1.5586   0.0408  38.1651 0.0000  1.4786  1.6387\n",
            "month_mar             2.8220   0.0908  31.0943 0.0000  2.6442  2.9999\n",
            "month_may             0.5867   0.0304  19.2814 0.0000  0.5270  0.6463\n",
            "month_nov             1.2735   0.0445  28.5964 0.0000  1.1863  1.3608\n",
            "month_oct             2.7225   0.0815  33.3924 0.0000  2.5627  2.8823\n",
            "poutcome_failure     -0.2803   0.0351  -7.9904 0.0000 -0.3490 -0.2115\n",
            "poutcome_success      1.9619   0.0602  32.5957 0.0000  1.8439  2.0798\n",
            "=====================================================================\n",
            "\n"
          ],
          "name": "stdout"
        }
      ]
    },
    {
      "cell_type": "code",
      "metadata": {
        "id": "Q8Li_vOpHAnc",
        "colab_type": "code",
        "outputId": "3eb115aa-be76-4df9-d1a6-163780857a8b",
        "colab": {
          "base_uri": "https://localhost:8080/",
          "height": 51
        }
      },
      "source": [
        "print('X = ',len(X))\n",
        "print('y = ',len(y))"
      ],
      "execution_count": 123,
      "outputs": [
        {
          "output_type": "stream",
          "text": [
            "X =  51134\n",
            "y =  51134\n"
          ],
          "name": "stdout"
        }
      ]
    },
    {
      "cell_type": "code",
      "metadata": {
        "id": "Ol4B_YvovanT",
        "colab_type": "code",
        "colab": {
          "base_uri": "https://localhost:8080/",
          "height": 102
        },
        "outputId": "737a2dc2-7fd6-4824-99f4-02293898c288"
      },
      "source": [
        "#Logistic Regression Model Fitting    ----------------------\n",
        "#\n",
        "from sklearn.linear_model import LogisticRegression\n",
        "from sklearn import  metrics\n",
        "\n",
        "X_train, X_test, y_train, y_test = train_test_split(X, y, test_size=0.3, random_state=0) \n",
        "logreg = LogisticRegression()\n",
        "logreg.fit(X_train, y_train)\n",
        "#---------------------------------------------------------------"
      ],
      "execution_count": 128,
      "outputs": [
        {
          "output_type": "execute_result",
          "data": {
            "text/plain": [
              "LogisticRegression(C=1.0, class_weight=None, dual=False, fit_intercept=True,\n",
              "                   intercept_scaling=1, l1_ratio=None, max_iter=100,\n",
              "                   multi_class='auto', n_jobs=None, penalty='l2',\n",
              "                   random_state=None, solver='lbfgs', tol=0.0001, verbose=0,\n",
              "                   warm_start=False)"
            ]
          },
          "metadata": {
            "tags": []
          },
          "execution_count": 128
        }
      ]
    },
    {
      "cell_type": "code",
      "metadata": {
        "id": "FzQpwLUtFwLE",
        "colab_type": "code",
        "colab": {
          "base_uri": "https://localhost:8080/",
          "height": 85
        },
        "outputId": "aa00fa29-0909-4d6d-f485-12fc3dd8cb51"
      },
      "source": [
        "print('X_train = ',len(X_train))\n",
        "print('y_train = ',len(y_train))\n",
        "print('X_test = ',len(X_test))\n",
        "print('y_test = ',len(y_test))"
      ],
      "execution_count": 129,
      "outputs": [
        {
          "output_type": "stream",
          "text": [
            "X_train =  35793\n",
            "y_train =  35793\n",
            "X_test =  15341\n",
            "y_test =  15341\n"
          ],
          "name": "stdout"
        }
      ]
    },
    {
      "cell_type": "code",
      "metadata": {
        "id": "XKIYzOlf-3Wv",
        "colab_type": "code",
        "colab": {
          "base_uri": "https://localhost:8080/",
          "height": 901
        },
        "outputId": "93f9bcd4-a0ac-4f90-b50e-46b176818200"
      },
      "source": [
        "print('X_ = ',X)\n",
        "print('y  = ',y)\n",
        "print('X_train = ',X_train)\n",
        "print('y_train = ',y_train)"
      ],
      "execution_count": 130,
      "outputs": [
        {
          "output_type": "stream",
          "text": [
            "X_ =         euribor3m  job_blue-collar  ...  poutcome_failure  poutcome_success\n",
            "0       4.153000              0.0  ...          1.000000               0.0\n",
            "1       4.857000              0.0  ...          0.000000               0.0\n",
            "2       4.857000              0.0  ...          0.000000               0.0\n",
            "3       4.153000              1.0  ...          0.000000               0.0\n",
            "4       1.266000              0.0  ...          1.000000               0.0\n",
            "...          ...              ...  ...               ...               ...\n",
            "51129   0.783746              0.0  ...          0.000000               0.0\n",
            "51130   1.509254              0.0  ...          0.000000               0.0\n",
            "51131   0.673663              0.0  ...          0.000000               1.0\n",
            "51132   4.961930              0.0  ...          0.000000               0.0\n",
            "51133   0.746277              0.0  ...          0.227679               0.0\n",
            "\n",
            "[51134 rows x 16 columns]\n",
            "y  =  0        0\n",
            "1        0\n",
            "2        0\n",
            "3        0\n",
            "4        0\n",
            "        ..\n",
            "51129    1\n",
            "51130    1\n",
            "51131    1\n",
            "51132    1\n",
            "51133    1\n",
            "Name: y, Length: 51134, dtype: int64\n",
            "X_train =         euribor3m  job_blue-collar  ...  poutcome_failure  poutcome_success\n",
            "643     1.334000              0.0  ...           0.00000               0.0\n",
            "16011   4.963000              0.0  ...           0.00000               0.0\n",
            "16379   4.021000              0.0  ...           0.00000               0.0\n",
            "42669   4.963000              0.0  ...           0.00000               0.0\n",
            "22348   4.076000              0.0  ...           0.00000               0.0\n",
            "...          ...              ...  ...               ...               ...\n",
            "21243   0.908000              0.0  ...           0.00000               0.0\n",
            "45891   1.359089              0.0  ...           0.72806               0.0\n",
            "42613   0.751425              0.0  ...           0.00000               1.0\n",
            "43567   4.963525              0.0  ...           0.00000               0.0\n",
            "2732    4.965000              0.0  ...           0.00000               0.0\n",
            "\n",
            "[35793 rows x 16 columns]\n",
            "y_train =  643      0\n",
            "16011    0\n",
            "16379    1\n",
            "42669    1\n",
            "22348    0\n",
            "        ..\n",
            "21243    0\n",
            "45891    1\n",
            "42613    1\n",
            "43567    1\n",
            "2732     0\n",
            "Name: y, Length: 35793, dtype: int64\n"
          ],
          "name": "stdout"
        }
      ]
    },
    {
      "cell_type": "code",
      "metadata": {
        "id": "OBHTZvE4ItZD",
        "colab_type": "code",
        "outputId": "a0859e27-874c-4dcb-a278-7c19db4c46c1",
        "colab": {
          "base_uri": "https://localhost:8080/",
          "height": 34
        }
      },
      "source": [
        "# Predicting the test set results and calculating the accuracy   -------------\n",
        "y_pred = logreg.predict(X_test)\n",
        "print('Accuracy of Logistic Regression Classification on Test set : {:.2f}'.format(logreg.score(X_test,y_test)))\n",
        "\n"
      ],
      "execution_count": 131,
      "outputs": [
        {
          "output_type": "stream",
          "text": [
            "Accuracy of Logistic Regression Classification on Test set : 0.74\n"
          ],
          "name": "stdout"
        }
      ]
    },
    {
      "cell_type": "code",
      "metadata": {
        "id": "y_M8o39tKitT",
        "colab_type": "code",
        "outputId": "dbf3fa05-56af-47c8-9a6c-86160acc8775",
        "colab": {
          "base_uri": "https://localhost:8080/",
          "height": 51
        }
      },
      "source": [
        "# Confusion Matrix\n",
        "from sklearn.metrics import confusion_matrix\n",
        "confusion_matrix = confusion_matrix(y_test,y_pred)\n",
        "print(confusion_matrix)"
      ],
      "execution_count": 132,
      "outputs": [
        {
          "output_type": "stream",
          "text": [
            "[[6124 1542]\n",
            " [2506 5169]]\n"
          ],
          "name": "stdout"
        }
      ]
    },
    {
      "cell_type": "markdown",
      "metadata": {
        "id": "FvMey2vbLcrs",
        "colab_type": "text"
      },
      "source": [
        "The result is telling us that we have 6124+5169  correct predictions and 2505+1542 incorrect predictions."
      ]
    },
    {
      "cell_type": "code",
      "metadata": {
        "id": "-dbYuVJPLb30",
        "colab_type": "code",
        "outputId": "f339a98f-1c5a-4801-ded4-62037f3716bc",
        "colab": {
          "base_uri": "https://localhost:8080/",
          "height": 170
        }
      },
      "source": [
        "#Compute precision, recall, F-measure and support\n",
        "#Interpretation: Of the entire test set, 74% of the promoted term deposit were the term deposit that the customers liked. \n",
        "#Of the entire test set, 74% of the customer’s preferred term deposits that were promoted.\n",
        "#-----------------------------------------------------------------\n",
        "from sklearn.metrics import  classification_report\n",
        "print(classification_report(y_test, y_pred))\n",
        "#------------------------------------------------------------------"
      ],
      "execution_count": 133,
      "outputs": [
        {
          "output_type": "stream",
          "text": [
            "              precision    recall  f1-score   support\n",
            "\n",
            "           0       0.71      0.80      0.75      7666\n",
            "           1       0.77      0.67      0.72      7675\n",
            "\n",
            "    accuracy                           0.74     15341\n",
            "   macro avg       0.74      0.74      0.74     15341\n",
            "weighted avg       0.74      0.74      0.74     15341\n",
            "\n"
          ],
          "name": "stdout"
        }
      ]
    },
    {
      "cell_type": "markdown",
      "metadata": {
        "id": "Oq0lt3XrMFLi",
        "colab_type": "text"
      },
      "source": [
        "To quote from Scikit Learn:\n",
        "The precision is the ratio tp / (tp + fp) where tp is the number of true positives and fp the number of false positives. The precision is intuitively the ability of the classifier to not label a sample as positive if it is negative.\n",
        "The recall is the ratio tp / (tp + fn) where tp is the number of true positives and fn the number of false negatives. The recall is intuitively the ability of the classifier to find all the positive samples.\n",
        "The F-beta score can be interpreted as a weighted harmonic mean of the precision and recall, where an F-beta score reaches its best value at 1 and worst score at 0.\n",
        "The F-beta score weights the recall more than the precision by a factor of beta. beta = 1.0 means recall and precision are equally important.\n",
        "The support is the number of occurrences of each class in y_test."
      ]
    },
    {
      "cell_type": "code",
      "metadata": {
        "id": "8phKy_tqNkBg",
        "colab_type": "code",
        "outputId": "62868685-556a-4e66-82bc-802e93c0fe9f",
        "colab": {
          "base_uri": "https://localhost:8080/",
          "height": 301
        }
      },
      "source": [
        "#    ROC Curve  \n",
        "from sklearn.metrics import roc_auc_score\n",
        "from sklearn.metrics import roc_curve\n",
        "logit_roc_auc  = roc_auc_score(y_test,logreg.predict(X_test))\n",
        "fpr, tpr, thresholds = roc_curve(y_test, logreg.predict_proba(X_test)[:,1])\n",
        "plt.figure()\n",
        "plt.plot(fpr, tpr, label = 'Logistic Regression (area = %0.2f)' % logit_roc_auc)\n",
        "plt.plot([0,1],[0,1],'r--')\n",
        "plt.xlim([0.0, 1.0])\n",
        "plt.ylim([0.0, 1.05])\n",
        "plt.xlabel('False Positive Rate')\n",
        "plt.ylabel('True Positive Rate')\n",
        "plt.title('Receiver operating characteristic')\n",
        "plt.legend(loc=\"lower right\")\n",
        "plt.savefig('Log_ROC')\n",
        "plt.show()"
      ],
      "execution_count": 134,
      "outputs": [
        {
          "output_type": "display_data",
          "data": {
            "image/png": "[encoded data removed]",
            "text/plain": [
              "<Figure size 432x288 with 1 Axes>"
            ]
          },
          "metadata": {
            "tags": []
          }
        }
      ]
    },
    {
      "cell_type": "code",
      "metadata": {
        "id": "ZmVwvUc4h1mi",
        "colab_type": "code",
        "colab": {}
      },
      "source": [
        "# Test code\n",
        "k = 0\n",
        "j = 0\n",
        "for i in os_data_X:\n",
        "   if i == 'y' :\n",
        "      k =  k + 1\n",
        "      exit\n",
        "   else :\n",
        "      j = j + 1\n",
        "      print(j,' = ', i)\n",
        "print('y= ' , k , ', not y = ', j)"
      ],
      "execution_count": 0,
      "outputs": []
    }
  ]
}